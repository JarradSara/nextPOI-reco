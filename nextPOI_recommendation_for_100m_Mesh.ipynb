{
 "cells": [
  {
   "cell_type": "markdown",
   "id": "af05b9c2-201b-45bd-83d7-2ab8a7cf3233",
   "metadata": {},
   "source": [
    "# Spark environment"
   ]
  },
  {
   "cell_type": "code",
   "execution_count": 2,
   "id": "825309d0-bc3b-44e4-bdd2-17d1f711e283",
   "metadata": {},
   "outputs": [],
   "source": [
    "import pandas as pd\n",
    "import numpy as np\n",
    "import math \n",
    "import os\n",
    "from ast import literal_eval\n",
    "from pathlib import Path\n",
    "from scipy import spatial\n",
    "from numpy import dot\n",
    "from numpy.linalg import norm\n",
    "import datetime\n",
    "import matplotlib.pyplot as plt\n",
    "from numpy import radians, cos, sin, arcsin, sqrt\n",
    "from math import sin, cos, acos, radians, asin, sqrt\n",
    "from functools import reduce\n",
    "import gensim\n",
    "from gensim.models import Word2Vec\n",
    "from gensim.test.utils import common_texts\n",
    "from gensim.models import Phrases\n",
    "from nltk.tokenize import sent_tokenize, word_tokenize\n",
    "import findspark\n",
    "import pyspark.sql.functions as f\n",
    "from pyspark.sql import DataFrame\n",
    "from pyspark.sql.functions import split, col, udf, size, lit\n",
    "from pyspark.sql.types import StringType\n",
    "from urllib import request\n",
    "from IPython.core.magic import (register_line_magic, register_cell_magic, register_line_cell_magic)\n",
    "import zipfile\n",
    "import warnings\n",
    "warnings.filterwarnings(action = 'ignore')\n",
    "%matplotlib inline"
   ]
  },
  {
   "cell_type": "code",
   "execution_count": 7,
   "id": "6b9a5d96-db29-4af0-b774-29de5c98438f",
   "metadata": {
    "id": "f0831208-e728-4f85-b50d-75651eee8ca6",
    "tags": []
   },
   "outputs": [
    {
     "name": "stdout",
     "output_type": "stream",
     "text": [
      "PB de path\n"
     ]
    }
   ],
   "source": [
    "home = os.environ[\"HOME\"]\n",
    "\n",
    "D1 = \"/.local/lib/python3.9/site-packages/pyspark\"\n",
    "D2 = \"/root/anaconda3/lib/python3.9/site-packages/pyspark\"\n",
    "\n",
    "if os.path.exists(D1):\n",
    "    os.environ[\"SPARK_HOME\"] = home +  D1\n",
    "elif os.path.exists(D2):\n",
    "    os.environ[\"SPARK_HOME\"] = home +  D2\n",
    "else:\n",
    "    print(\"PB de path\")\n",
    "\n",
    "os.environ[\"JAVA_HOME\"] =\"/usr\""
   ]
  },
  {
   "cell_type": "markdown",
   "id": "03e669c3-93be-4019-af44-4229d9a3ba9b",
   "metadata": {
    "id": "13d58df7-7115-4475-bc47-c9fc2d37d691",
    "tags": []
   },
   "source": [
    "### Start spark "
   ]
  },
  {
   "cell_type": "code",
   "execution_count": 8,
   "id": "cceff5d6-d4da-4e39-af76-37ea0a07aeea",
   "metadata": {
    "id": "938e5846-9571-4a35-857a-ce5180a69c96",
    "outputId": "ea0cdf56-36c8-49f4-b887-6e7b3b6d3387"
   },
   "outputs": [
    {
     "name": "stdout",
     "output_type": "stream",
     "text": [
      "findspark.init() initialise les variables d'environnement pour spark\n"
     ]
    }
   ],
   "source": [
    "import findspark \n",
    "print(\"findspark.init() initialise les variables d'environnement pour spark\") \n",
    "findspark.init() \n",
    "\n",
    "from pyspark.sql import SparkSession \n",
    "from pyspark import SparkConf  \n",
    "\n",
    "# SQL types\n",
    "from pyspark.sql.types import *"
   ]
  },
  {
   "cell_type": "code",
   "execution_count": 10,
   "id": "83bfe973-efb1-42b3-9895-e86a5a857ed3",
   "metadata": {
    "id": "68195c5c-7f29-46eb-9dcb-6e1ff39d0521",
    "outputId": "8cb3ab96-8d9e-4c69-eb87-b9548df690c0"
   },
   "outputs": [
    {
     "name": "stdout",
     "output_type": "stream",
     "text": [
      "session démarrée, son id est  local-1682968246681\n"
     ]
    }
   ],
   "source": [
    "def demarrer_spark():\n",
    "    local = \"local[*]\"\n",
    "    appName = \"TP\"\n",
    "    configLocale = SparkConf().setAppName(appName).setMaster(local).\\\n",
    "    set(\"spark.executor.memory\", \"100G\").\\\n",
    "    set(\"spark.driver.memory\",\"50G\").\\\n",
    "    set(\"spark.sql.catalogImplementation\",\"in-memory\").\\\n",
    "    set(\"spark.driver.maxResultSize\", \"10G\")\n",
    "\n",
    "    spark = SparkSession.builder.config(conf = configLocale).getOrCreate()\n",
    "    sc = spark.sparkContext\n",
    "    sc.setLogLevel(\"ERROR\")\n",
    "\n",
    "    # spark.conf.set(\"spark.sql.autoBroadcastJoinThreshold\",\"-1\")\n",
    "    # On ajuste l'environnement d'exécution des requêtes à la taille du cluster (4 coeurs)\n",
    "    # spark.conf.set(\"spark.sql.shuffle.partitions\",\"200\")    \n",
    "\n",
    "    print(\"session démarrée, son id est \", sc.applicationId)\n",
    "    return spark\n",
    "\n",
    "spark = demarrer_spark()"
   ]
  },
  {
   "cell_type": "code",
   "execution_count": 11,
   "id": "14ac060a-3d58-4766-b85d-c202cfc8d814",
   "metadata": {},
   "outputs": [
    {
     "data": {
      "text/html": [
       "\n",
       "            <div>\n",
       "                <p><b>SparkSession - in-memory</b></p>\n",
       "                \n",
       "        <div>\n",
       "            <p><b>SparkContext</b></p>\n",
       "\n",
       "            <p><a href=\"http://json.lip6.fr:4044\">Spark UI</a></p>\n",
       "\n",
       "            <dl>\n",
       "              <dt>Version</dt>\n",
       "                <dd><code>v3.2.1</code></dd>\n",
       "              <dt>Master</dt>\n",
       "                <dd><code>local[*]</code></dd>\n",
       "              <dt>AppName</dt>\n",
       "                <dd><code>TP</code></dd>\n",
       "            </dl>\n",
       "        </div>\n",
       "        \n",
       "            </div>\n",
       "        "
      ],
      "text/plain": [
       "<pyspark.sql.session.SparkSession at 0x7fb07e142730>"
      ]
     },
     "execution_count": 11,
     "metadata": {},
     "output_type": "execute_result"
    }
   ],
   "source": [
    "spark"
   ]
  },
  {
   "cell_type": "markdown",
   "id": "6674eafa-3dc0-4e0f-b29a-f672a7cbfb2e",
   "metadata": {
    "tags": []
   },
   "source": [
    "###  SQL Magic"
   ]
  },
  {
   "cell_type": "code",
   "execution_count": 12,
   "id": "7d4db714-9328-4816-80cf-4bd032fef7c1",
   "metadata": {},
   "outputs": [],
   "source": [
    "def removeComments(query):\n",
    "    result = \"\"\n",
    "    for line in query.split('\\n'):\n",
    "    if not(line.strip().startswith(\"--\")):\n",
    "      result += line + \"\\n\"\n",
    "    return result\n",
    "\n",
    "@register_line_cell_magic\n",
    "def sql(line, cell=None):\n",
    "    \"To run a sql query. Use:  %%sql\"\n",
    "    val = cell if cell is not None else line\n",
    "    tabRequetes = removeComments(val).split(\";\")\n",
    "    derniere = None\n",
    "    est_requete = False\n",
    "    for r in tabRequetes:\n",
    "        r = r.strip()\n",
    "        if len(r) > 2:\n",
    "          derniere = spark.sql(r)\n",
    "          est_requete = r.lower().startswith('select') or r.lower().startswith('with')  \n",
    "    if(est_requete):\n",
    "      return display(derniere)\n",
    "    else:\n",
    "      return print('ok')"
   ]
  },
  {
   "cell_type": "markdown",
   "id": "4a760a72-bf1e-4c4c-a3fa-33529eedb9fa",
   "metadata": {},
   "source": [
    "display"
   ]
  },
  {
   "cell_type": "code",
   "execution_count": 13,
   "id": "60149117-68e3-4d5b-857d-4a12875bc6e4",
   "metadata": {
    "colab": {
     "base_uri": "https://localhost:8080/"
    },
    "executionInfo": {
     "elapsed": 238,
     "status": "ok",
     "timestamp": 1648043826961,
     "user": {
      "displayName": "Hubert Naacke",
      "photoUrl": "https://lh3.googleusercontent.com/a/default-user=s64",
      "userId": "03575281438400116050"
     },
     "user_tz": -60
    },
    "id": "0b6a7db7-96d3-469d-89a9-eb30ccb7dfc0",
    "outputId": "e39d10eb-11a7-450c-cad1-4bb5c9c12f25"
   },
   "outputs": [
    {
     "name": "stdout",
     "output_type": "stream",
     "text": [
      "display redéfini\n"
     ]
    }
   ],
   "source": [
    "def display(df, n=10):\n",
    "    pd.set_option('max_columns', None)\n",
    "    pd.set_option('max_colwidth', None)\n",
    "    return df.limit(n).toPandas()\n",
    "\n",
    "print(\"display redéfini\")"
   ]
  },
  {
   "cell_type": "markdown",
   "id": "f3232055-6cd6-49f8-ba9a-bcf18d674cd7",
   "metadata": {},
   "source": [
    "# Parametres"
   ]
  },
  {
   "cell_type": "code",
   "execution_count": 14,
   "id": "73ba0340-75b3-4e0c-81a5-9716cbeeb27c",
   "metadata": {},
   "outputs": [
    {
     "name": "stdout",
     "output_type": "stream",
     "text": [
      "local_dir: /local/jarrad/bd/\n",
      "model_dir: /local/jarrad/bd/model_dimension\n",
      "notebook_dir: /home/jarrad/Bureau/notebook_sara/\n",
      "experiment_dir: /home/jarrad/Bureau/notebook_sara/experiment/\n"
     ]
    }
   ],
   "source": [
    "class Parametre :\n",
    "    #Dataset storage URL\n",
    "    PUBLIC_DATASET_URL = \"https://nuage.lip6.fr/s/H3bpyRGgnCq2NR4\" \n",
    "\n",
    "\n",
    "    # Local directory\n",
    "    local_dir = \"/local/jarrad/bd/\"\n",
    "\n",
    "    # models storage directory\n",
    "    model_dir  = local_dir + \"model_dimension\"\n",
    "    model_name = model_dir + \"/model\" \n",
    "\n",
    "    yfcc_web_dir = \"YFCC_dataset_extrait\"\n",
    "    yfcc_file = \"yfccFrance\"\n",
    "    \n",
    "    \n",
    "    # Notebook Directory\n",
    "    notebook_dir = \"/home/jarrad/Bureau/notebook_sara/\"\n",
    "\n",
    "\n",
    "    # experiment_directory\n",
    "    experiment_dir = notebook_dir + \"experiment/\"\n",
    "\n",
    "\n",
    "    # parameters values chosen\n",
    "    expe_dimensions = [2,12,25,30,50]\n",
    "    expe_topk = [1,15,20,50]\n",
    "    expe_epochs = [5, 50, 100]\n",
    "    expe_windows = [5]\n",
    "   \n",
    "P = Parametre()\n",
    "print(\"local_dir:\", P.local_dir)\n",
    "print(\"model_dir:\", P.model_dir)\n",
    "print(\"notebook_dir:\", P.notebook_dir)\n",
    "print(\"experiment_dir:\", P.experiment_dir)"
   ]
  },
  {
   "cell_type": "code",
   "execution_count": 15,
   "id": "fc951873-5112-4250-86eb-363eb4b86a5d",
   "metadata": {},
   "outputs": [],
   "source": [
    "os.makedirs(P.local_dir, exist_ok=True)\n",
    "os.makedirs(P.model_dir, exist_ok=True)\n",
    "os.makedirs(P.experiment_dir, exist_ok=True)"
   ]
  },
  {
   "cell_type": "markdown",
   "id": "12ae2b8e-543f-418d-af5b-f8a359025b69",
   "metadata": {},
   "source": [
    "# Dataset "
   ]
  },
  {
   "cell_type": "markdown",
   "id": "a27ac62c-9632-4cef-a1c0-fecbb9dd0762",
   "metadata": {
    "id": "09ec5ba0-b136-489c-a09b-4cc7482bc02f",
    "tags": []
   },
   "source": [
    "## Dataset analysis"
   ]
  },
  {
   "cell_type": "code",
   "execution_count": 16,
   "id": "553b6aba-be15-4b12-97cc-cbf26d168665",
   "metadata": {},
   "outputs": [
    {
     "data": {
      "text/plain": [
       "['model_dimension',\n",
       " 'yfccFrance_M_40_trainset',\n",
       " 'yfccFrance_M_30_testset',\n",
       " 'yfccFrance_testset',\n",
       " 'yfccFrance_trainset.tgz',\n",
       " 'yfccFrance_testset.tgz',\n",
       " 'yfccFrance_M_100_testset',\n",
       " 'yfccFrance_M_70_trainset',\n",
       " 'yfccFrance_M_30_trainset',\n",
       " 'yfccFrance_M_1_trainset',\n",
       " 'yfccFrance_M_10_testset',\n",
       " 'yfccFrance_M_40_testset',\n",
       " 'yfccFrance_M_100_trainset',\n",
       " 'yfccFrance_M_1_testset',\n",
       " 'yfccFrance_M_70_testset',\n",
       " 'yfccFrance_M_5_trainset',\n",
       " 'yfccFrance_M_200_trainset',\n",
       " 'yfccFrance_M_150_testset',\n",
       " 'yfccFrance_M_5_testset',\n",
       " 'yfccFrance.zip',\n",
       " 'yfccFrance_M_400_trainset',\n",
       " 'yfccFrance_M_50_testset',\n",
       " 'yfccFrance_M_50_trainset',\n",
       " 'yfccFrance_M_500_trainset',\n",
       " 'yfccFrance_M_200_testset',\n",
       " 'yfccFrance_M_1e-07_trainset',\n",
       " 'yfccFrance_trainset',\n",
       " 'yfccFrance_M_1e-07_testset',\n",
       " 'yfccFrance_M_400_testset',\n",
       " 'yfccFrance_M_20_testset',\n",
       " 'yfccFrance_M_10_trainset',\n",
       " 'yfccFrance_M_20_trainset',\n",
       " 'yfccFrance_M_150_trainset',\n",
       " 'yfccFrance_M_500_testset',\n",
       " 'yfccFrance']"
      ]
     },
     "execution_count": 16,
     "metadata": {},
     "output_type": "execute_result"
    }
   ],
   "source": [
    "os.listdir(P.local_dir)"
   ]
  },
  {
   "cell_type": "markdown",
   "id": "d19ba3e3-5047-4e90-8b26-f01bbc4b3fe5",
   "metadata": {},
   "source": [
    "Fonction download file"
   ]
  },
  {
   "cell_type": "code",
   "execution_count": 17,
   "id": "f65d6c4d-52f4-4df3-ac19-f5a9f92ce1cc",
   "metadata": {},
   "outputs": [
    {
     "name": "stdout",
     "output_type": "stream",
     "text": [
      "définie\n"
     ]
    }
   ],
   "source": [
    "# download dataset if not already donwloaded\n",
    "def download_file(web_file, local_file):\n",
    "\n",
    "    if(os.path.isfile(local_file)):\n",
    "    print(local_file, \"is already stored\")\n",
    "    else:\n",
    "    print(\"downloading from URL: \", web_file , \"save in : \" + local_file)\n",
    "    request.urlretrieve(web_file , local_file)\n",
    "    \n",
    "print(\"définie\")"
   ]
  },
  {
   "cell_type": "markdown",
   "id": "42d06647-34fe-423a-89f3-6cb35cf2e955",
   "metadata": {},
   "source": [
    "URL pour l'accès aux datasets"
   ]
  },
  {
   "cell_type": "markdown",
   "id": "81ac4452-61af-43e1-acc1-cd2be536b126",
   "metadata": {},
   "source": [
    "download YFCC file"
   ]
  },
  {
   "cell_type": "markdown",
   "id": "b6806f7a-b63f-4c1c-9854-17d9cd442cb3",
   "metadata": {},
   "source": [
    "### Dataset YFCC"
   ]
  },
  {
   "cell_type": "markdown",
   "id": "0234221e-06ee-4d7b-bc4e-c82ca5c71031",
   "metadata": {},
   "source": [
    "### get_yfcc_dataset"
   ]
  },
  {
   "cell_type": "code",
   "execution_count": 18,
   "id": "e65509fe-fa64-47f0-af51-2f6a652db8d0",
   "metadata": {},
   "outputs": [],
   "source": [
    "def get_yfcc_dataset(web_dir, local_dir, file):\n",
    "\n",
    "    local_file = local_dir + \"/\" + file\n",
    "    web_file = web_dir + \"/\" + file\n",
    "    download_file(web_file, local_file + \".zip\")\n",
    "\n",
    "    #unzip\n",
    "    if(os.path.isdir(local_file)):\n",
    "        print(\"file already unziped\")\n",
    "    else:\n",
    "        with zipfile.ZipFile(local_dir + \"/\" + file + \".zip\", 'r') as zip_ref:\n",
    "        zip_ref.extractall(local_dir)\n"
   ]
  },
  {
   "cell_type": "markdown",
   "id": "6442763a-63b3-4fe4-977b-32cbf9d9174d",
   "metadata": {},
   "source": [
    "call get_yfcc_dataset"
   ]
  },
  {
   "cell_type": "code",
   "execution_count": 19,
   "id": "d3c7107d-f0d7-4acc-b2d1-d29af314aaa8",
   "metadata": {},
   "outputs": [
    {
     "name": "stdout",
     "output_type": "stream",
     "text": [
      "URL du dossier contenant les datasets  https://nuage.lip6.fr/s/H3bpyRGgnCq2NR4\n",
      "/local/jarrad/bd//yfccFrance.zip is already stored\n",
      "file already unziped\n"
     ]
    },
    {
     "data": {
      "text/plain": [
       "['model_dimension',\n",
       " 'yfccFrance_M_40_trainset',\n",
       " 'yfccFrance_M_30_testset',\n",
       " 'yfccFrance_testset',\n",
       " 'yfccFrance_trainset.tgz',\n",
       " 'yfccFrance_testset.tgz',\n",
       " 'yfccFrance_M_100_testset',\n",
       " 'yfccFrance_M_70_trainset',\n",
       " 'yfccFrance_M_30_trainset',\n",
       " 'yfccFrance_M_1_trainset',\n",
       " 'yfccFrance_M_10_testset',\n",
       " 'yfccFrance_M_40_testset',\n",
       " 'yfccFrance_M_100_trainset',\n",
       " 'yfccFrance_M_1_testset',\n",
       " 'yfccFrance_M_70_testset',\n",
       " 'yfccFrance_M_5_trainset',\n",
       " 'yfccFrance_M_200_trainset',\n",
       " 'yfccFrance_M_150_testset',\n",
       " 'yfccFrance_M_5_testset',\n",
       " 'yfccFrance.zip',\n",
       " 'yfccFrance_M_400_trainset',\n",
       " 'yfccFrance_M_50_testset',\n",
       " 'yfccFrance_M_50_trainset',\n",
       " 'yfccFrance_M_500_trainset',\n",
       " 'yfccFrance_M_200_testset',\n",
       " 'yfccFrance_M_1e-07_trainset',\n",
       " 'yfccFrance_trainset',\n",
       " 'yfccFrance_M_1e-07_testset',\n",
       " 'yfccFrance_M_400_testset',\n",
       " 'yfccFrance_M_20_testset',\n",
       " 'yfccFrance_M_10_trainset',\n",
       " 'yfccFrance_M_20_trainset',\n",
       " 'yfccFrance_M_150_trainset',\n",
       " 'yfccFrance_M_500_testset',\n",
       " 'yfccFrance']"
      ]
     },
     "execution_count": 19,
     "metadata": {},
     "output_type": "execute_result"
    }
   ],
   "source": [
    "# URL du dossier PUBLIC_DATASET contenant des fichiers de données pour les TP\n",
    "# ---------------------------------------------------------------------------\n",
    "print(\"URL du dossier contenant les datasets \", P.PUBLIC_DATASET_URL)\n",
    "\n",
    "yfcc_web_dir_download_URL = P.PUBLIC_DATASET_URL + \"/download?path=\" + \"/\" + P.yfcc_web_dir\n",
    "get_yfcc_dataset(yfcc_web_dir_download_URL , P.local_dir, P.yfcc_file)\n",
    "\n",
    "os.listdir(P.local_dir)"
   ]
  },
  {
   "cell_type": "code",
   "execution_count": 20,
   "id": "9d9a9773-72d1-40c8-9128-2b9f8ca2eff0",
   "metadata": {},
   "outputs": [
    {
     "data": {
      "text/html": [
       "<div>\n",
       "<style scoped>\n",
       "    .dataframe tbody tr th:only-of-type {\n",
       "        vertical-align: middle;\n",
       "    }\n",
       "\n",
       "    .dataframe tbody tr th {\n",
       "        vertical-align: top;\n",
       "    }\n",
       "\n",
       "    .dataframe thead th {\n",
       "        text-align: right;\n",
       "    }\n",
       "</style>\n",
       "<table border=\"1\" class=\"dataframe\">\n",
       "  <thead>\n",
       "    <tr style=\"text-align: right;\">\n",
       "      <th></th>\n",
       "      <th>Line</th>\n",
       "      <th>PhotoID</th>\n",
       "      <th>PhotoHash</th>\n",
       "      <th>UserNSID</th>\n",
       "      <th>UserNickname</th>\n",
       "      <th>DateTaken</th>\n",
       "      <th>DateUploaded</th>\n",
       "      <th>CaptureDevice</th>\n",
       "      <th>Title</th>\n",
       "      <th>Description</th>\n",
       "      <th>UserTags</th>\n",
       "      <th>MachineTags</th>\n",
       "      <th>Longitude</th>\n",
       "      <th>Latitude</th>\n",
       "      <th>Accuracy</th>\n",
       "      <th>URL</th>\n",
       "      <th>DownloadURL</th>\n",
       "      <th>LicenseName</th>\n",
       "      <th>LicenseURL</th>\n",
       "      <th>ServerID</th>\n",
       "      <th>FarmID</th>\n",
       "      <th>Secret</th>\n",
       "      <th>SecretOriginal</th>\n",
       "      <th>Extension</th>\n",
       "      <th>Marker</th>\n",
       "    </tr>\n",
       "  </thead>\n",
       "  <tbody>\n",
       "    <tr>\n",
       "      <th>0</th>\n",
       "      <td>80096796</td>\n",
       "      <td>834796</td>\n",
       "      <td>dc9b7584ecb34a448540bee3b38fe85c</td>\n",
       "      <td>77922700@N00</td>\n",
       "      <td>iko</td>\n",
       "      <td>2004-09-15 19:41:25.0</td>\n",
       "      <td>1097582515</td>\n",
       "      <td>PENTAX+Corporation+PENTAX+Optio+S4</td>\n",
       "      <td>marseille</td>\n",
       "      <td>None</td>\n",
       "      <td>city,cityproject,coucher+de+soleil,marseille,sunset,ville</td>\n",
       "      <td>None</td>\n",
       "      <td>5.371059</td>\n",
       "      <td>43.284172</td>\n",
       "      <td>16</td>\n",
       "      <td>http://www.flickr.com/photos/77922700@N00/834796/</td>\n",
       "      <td>http://farm1.staticflickr.com/1/834796_9e5d1edb3a.jpg</td>\n",
       "      <td>Attribution-NonCommercial-NoDerivs License</td>\n",
       "      <td>http://creativecommons.org/licenses/by-nc-nd/2.0/</td>\n",
       "      <td>1</td>\n",
       "      <td>1</td>\n",
       "      <td>9e5d1edb3a</td>\n",
       "      <td>9e5d1edb3a</td>\n",
       "      <td>jpg</td>\n",
       "      <td>0</td>\n",
       "    </tr>\n",
       "    <tr>\n",
       "      <th>1</th>\n",
       "      <td>64666153</td>\n",
       "      <td>5477598</td>\n",
       "      <td>4c38199a877fba534860a365bf9c97</td>\n",
       "      <td>76384935@N00</td>\n",
       "      <td>Chip_2904</td>\n",
       "      <td>2005-02-26 20:36:16.0</td>\n",
       "      <td>1109450176</td>\n",
       "      <td>None</td>\n",
       "      <td>Quiz+Night+2</td>\n",
       "      <td>None</td>\n",
       "      <td>france,lesarcs,skiing</td>\n",
       "      <td>None</td>\n",
       "      <td>6.832551</td>\n",
       "      <td>45.573586</td>\n",
       "      <td>13</td>\n",
       "      <td>http://www.flickr.com/photos/76384935@N00/5477598/</td>\n",
       "      <td>http://farm1.staticflickr.com/6/5477598_d4ec281653.jpg</td>\n",
       "      <td>Attribution-NonCommercial-ShareAlike License</td>\n",
       "      <td>http://creativecommons.org/licenses/by-nc-sa/2.0/</td>\n",
       "      <td>6</td>\n",
       "      <td>1</td>\n",
       "      <td>d4ec281653</td>\n",
       "      <td>d4ec281653</td>\n",
       "      <td>jpg</td>\n",
       "      <td>0</td>\n",
       "    </tr>\n",
       "    <tr>\n",
       "      <th>2</th>\n",
       "      <td>82397565</td>\n",
       "      <td>5975164</td>\n",
       "      <td>2a76868b7eb18ea240d48e2941648582</td>\n",
       "      <td>70408381@N00</td>\n",
       "      <td>scot2342</td>\n",
       "      <td>2004-07-31 10:12:52.0</td>\n",
       "      <td>1110087781</td>\n",
       "      <td>NIKON+E4200</td>\n",
       "      <td>Giverny</td>\n",
       "      <td>Giverny+flowers+Monet+France</td>\n",
       "      <td>2004,flowers,france,giverny,monet</td>\n",
       "      <td>None</td>\n",
       "      <td>1.524825</td>\n",
       "      <td>49.077106</td>\n",
       "      <td>16</td>\n",
       "      <td>http://www.flickr.com/photos/70408381@N00/5975164/</td>\n",
       "      <td>http://farm1.staticflickr.com/3/5975164_5ebb925aa1.jpg</td>\n",
       "      <td>Attribution-NonCommercial-NoDerivs License</td>\n",
       "      <td>http://creativecommons.org/licenses/by-nc-nd/2.0/</td>\n",
       "      <td>3</td>\n",
       "      <td>1</td>\n",
       "      <td>5ebb925aa1</td>\n",
       "      <td>5ebb925aa1</td>\n",
       "      <td>jpg</td>\n",
       "      <td>0</td>\n",
       "    </tr>\n",
       "    <tr>\n",
       "      <th>3</th>\n",
       "      <td>39862899</td>\n",
       "      <td>8060056</td>\n",
       "      <td>987ba5ffd786949496eda3a5fcf89b2</td>\n",
       "      <td>32323502@N00</td>\n",
       "      <td>Julie70</td>\n",
       "      <td>2005-03-31 12:22:18.0</td>\n",
       "      <td>1112338974</td>\n",
       "      <td>SONY+DSC-P150</td>\n",
       "      <td>They+were+all+in+it</td>\n",
       "      <td>There+will+be+always+loving+couples+in+Paris%2C+kissing+each+other.+It+is+good+to+know...+even+if+it+is+no+more+me.+Between+Notre+Dame+and+the+Seine+there+is+a+quiet+alley.%0ASuddenly%2C+my+eyes+falled+on+this+couple%3A+they+were+all+in+the+kiss+and+the+embrace%2C+showing+the+love+and+tenderness+to+each+other.+%0A%0AThat+is+also+one+of+my+prefered+photos.+One+of+the+things+I+liked+most+were+her+sensible+shows+and+how+she+had+to+be+almost+on+tips+of+her+feet+to+arrive+to+him+and+how+much+reciprocity+showed+in+this+image+from+this+middle+aged+couple.%0A%0AI+remember%2C+looking+at+it%2C+as+probably+I+did+when+I+first+looked+at+it%2C+a+certain+night%2C+long+long+time+ago%3A+I+was+40+years+old%2C+and+my+husband+from+wich+I+was+separating+told+me+%22you+are+too+old%2C+no+one+would+want+you+any+more%22.%0A%0AI+met+an+intelligent+and+tender+American%2C+went+to+diner%2C+showing+him+later+%22Paris%22.+%0AA+night%2C+behind+Notre+Dame++I+discovered+I+can+be+regarded+as+woman+and+with+tenderness+again%2C+and+that+all+is+not+lost+as+I+believed+before.</td>\n",
       "      <td>1-5-fav,100+most+interesting,100+pages,120+of+50000,2,2005,a4,balade,best+in+22000,bigfavs,blog,choice,couples,deux,flickr+most+favorited,flickrfavs,for+valentine+day+2010,france,gens,images,julie+kertesz,julie70,kett%C3%B6,love,march,master%27s+prefered,mc%2307,mes+favoris,meschoix,most+interesting,mostfav,my+favorites,my+prefered,my+preferred,pair,paires,paris,paris+5e,paris+strolls,parisians,parisien,parisienne,parisiens,people,people+in+paris,personnages,photo+julie+kertesz,photo-pots,photography+julie+kertesz,photos,portrait,prefered,quais,rencontr%C3%A9s+%C3%A0+paris,rencontres,seine,someofmyfavorites,street+photo,stroll,tenderness,tendresse,three+years,together,top,top+favorited,top+interesting,topfavs,topvjulie70,two</td>\n",
       "      <td>None</td>\n",
       "      <td>2.346675</td>\n",
       "      <td>48.852306</td>\n",
       "      <td>14</td>\n",
       "      <td>http://www.flickr.com/photos/32323502@N00/8060056/</td>\n",
       "      <td>http://farm1.staticflickr.com/4/8060056_df5ed9e19b.jpg</td>\n",
       "      <td>Attribution-NonCommercial-ShareAlike License</td>\n",
       "      <td>http://creativecommons.org/licenses/by-nc-sa/2.0/</td>\n",
       "      <td>4</td>\n",
       "      <td>1</td>\n",
       "      <td>df5ed9e19b</td>\n",
       "      <td>df5ed9e19b</td>\n",
       "      <td>jpg</td>\n",
       "      <td>0</td>\n",
       "    </tr>\n",
       "    <tr>\n",
       "      <th>4</th>\n",
       "      <td>64976931</td>\n",
       "      <td>8916795</td>\n",
       "      <td>b1e9a0bbfd8a221830461d39a6c7e1d3</td>\n",
       "      <td>51035823282@N01</td>\n",
       "      <td>alexdecarvalho</td>\n",
       "      <td>2005-04-08 17:56:02.0</td>\n",
       "      <td>1113079413</td>\n",
       "      <td>Canon+DIGITAL+IXUS+40</td>\n",
       "      <td>Grupo+Corpo</td>\n",
       "      <td>None</td>\n",
       "      <td>2005,brasil,brazil,dance,france,francebrazil,grupocorpo,paris</td>\n",
       "      <td>None</td>\n",
       "      <td>2.304210</td>\n",
       "      <td>48.866394</td>\n",
       "      <td>15</td>\n",
       "      <td>http://www.flickr.com/photos/51035823282@N01/8916795/</td>\n",
       "      <td>http://farm1.staticflickr.com/8/8916795_11c551a24b.jpg</td>\n",
       "      <td>Attribution-NonCommercial-ShareAlike License</td>\n",
       "      <td>http://creativecommons.org/licenses/by-nc-sa/2.0/</td>\n",
       "      <td>8</td>\n",
       "      <td>1</td>\n",
       "      <td>11c551a24b</td>\n",
       "      <td>11c551a24b</td>\n",
       "      <td>jpg</td>\n",
       "      <td>0</td>\n",
       "    </tr>\n",
       "    <tr>\n",
       "      <th>5</th>\n",
       "      <td>82227190</td>\n",
       "      <td>9785366</td>\n",
       "      <td>7a4fad34c5724a9b92715e64ef81e5e</td>\n",
       "      <td>57366077@N00</td>\n",
       "      <td>j.s.+clark</td>\n",
       "      <td>2005-03-17 01:18:20.0</td>\n",
       "      <td>1113841862</td>\n",
       "      <td>NIKON+E4300</td>\n",
       "      <td>DSCN3782</td>\n",
       "      <td>Street+of+pushy+Greek+restaurateurs+%28Rue+de+la+Huchette%29.++%22Ey%2C+you+want+French%3F++French+is+here%21%21%22++This+was+sooo+tourist-thronged+it+made+me+long+for+rue+Lepic+or+even+rue+Cler.++Sounds+snobby%2C+but+what+a+difference.++This+looked+like+Duval+Street+in+Key+West.</td>\n",
       "      <td>france,paris</td>\n",
       "      <td>None</td>\n",
       "      <td>2.348333</td>\n",
       "      <td>48.852177</td>\n",
       "      <td>16</td>\n",
       "      <td>http://www.flickr.com/photos/57366077@N00/9785366/</td>\n",
       "      <td>http://farm1.staticflickr.com/4/9785366_975272aa42.jpg</td>\n",
       "      <td>Attribution-NonCommercial-ShareAlike License</td>\n",
       "      <td>http://creativecommons.org/licenses/by-nc-sa/2.0/</td>\n",
       "      <td>4</td>\n",
       "      <td>1</td>\n",
       "      <td>975272aa42</td>\n",
       "      <td>975272aa42</td>\n",
       "      <td>jpg</td>\n",
       "      <td>0</td>\n",
       "    </tr>\n",
       "    <tr>\n",
       "      <th>6</th>\n",
       "      <td>80027775</td>\n",
       "      <td>15258293</td>\n",
       "      <td>abde63262e9157be4bea5e34c797b6c6</td>\n",
       "      <td>70786516@N00</td>\n",
       "      <td>jmm403</td>\n",
       "      <td>2005-05-23 12:49:13.0</td>\n",
       "      <td>1116845353</td>\n",
       "      <td>None</td>\n",
       "      <td>Les+mouleurs+d%C3%A9moulent+-+3</td>\n",
       "      <td>Quand+les+stagiaires+investissent+les+lieux+...</td>\n",
       "      <td>france,home,installation,nature,plaze1d4e820be705d62083b3c2a0d581cb4c,plazes,setup</td>\n",
       "      <td>None</td>\n",
       "      <td>1.783304</td>\n",
       "      <td>47.866096</td>\n",
       "      <td>16</td>\n",
       "      <td>http://www.flickr.com/photos/70786516@N00/15258293/</td>\n",
       "      <td>http://farm1.staticflickr.com/9/15258293_21ad650046.jpg</td>\n",
       "      <td>Attribution-NonCommercial-NoDerivs License</td>\n",
       "      <td>http://creativecommons.org/licenses/by-nc-nd/2.0/</td>\n",
       "      <td>9</td>\n",
       "      <td>1</td>\n",
       "      <td>21ad650046</td>\n",
       "      <td>21ad650046</td>\n",
       "      <td>jpg</td>\n",
       "      <td>0</td>\n",
       "    </tr>\n",
       "    <tr>\n",
       "      <th>7</th>\n",
       "      <td>75639873</td>\n",
       "      <td>15470300</td>\n",
       "      <td>348ee7682fea23977eec8b1e3bf1</td>\n",
       "      <td>77357393@N00</td>\n",
       "      <td>muckster</td>\n",
       "      <td>2002-09-19 00:00:00.0</td>\n",
       "      <td>1116944075</td>\n",
       "      <td>NIKON+E900</td>\n",
       "      <td>Bubble+House</td>\n",
       "      <td>None</td>\n",
       "      <td>cotedazur,france,mediterranean,riviera,rock,sea,villa,water</td>\n",
       "      <td>None</td>\n",
       "      <td>7.076911</td>\n",
       "      <td>43.576412</td>\n",
       "      <td>10</td>\n",
       "      <td>http://www.flickr.com/photos/77357393@N00/15470300/</td>\n",
       "      <td>http://farm1.staticflickr.com/13/15470300_2dbe9d8196.jpg</td>\n",
       "      <td>Attribution-NonCommercial-ShareAlike License</td>\n",
       "      <td>http://creativecommons.org/licenses/by-nc-sa/2.0/</td>\n",
       "      <td>13</td>\n",
       "      <td>1</td>\n",
       "      <td>2dbe9d8196</td>\n",
       "      <td>2dbe9d8196</td>\n",
       "      <td>jpg</td>\n",
       "      <td>0</td>\n",
       "    </tr>\n",
       "    <tr>\n",
       "      <th>8</th>\n",
       "      <td>69533974</td>\n",
       "      <td>16396565</td>\n",
       "      <td>e4cf846d4386b53834c4c9ba9326fd</td>\n",
       "      <td>49691054@N00</td>\n",
       "      <td>Alexandre+Gacon</td>\n",
       "      <td>2005-04-02 16:32:55.0</td>\n",
       "      <td>1117445508</td>\n",
       "      <td>SONY+DSC-W1</td>\n",
       "      <td>DSC00906</td>\n",
       "      <td>None</td>\n",
       "      <td>None</td>\n",
       "      <td>None</td>\n",
       "      <td>4.864540</td>\n",
       "      <td>49.547153</td>\n",
       "      <td>12</td>\n",
       "      <td>http://www.flickr.com/photos/49691054@N00/16396565/</td>\n",
       "      <td>http://farm1.staticflickr.com/14/16396565_a3f3d22780.jpg</td>\n",
       "      <td>Attribution-NonCommercial-ShareAlike License</td>\n",
       "      <td>http://creativecommons.org/licenses/by-nc-sa/2.0/</td>\n",
       "      <td>14</td>\n",
       "      <td>1</td>\n",
       "      <td>a3f3d22780</td>\n",
       "      <td>a3f3d22780</td>\n",
       "      <td>jpg</td>\n",
       "      <td>0</td>\n",
       "    </tr>\n",
       "    <tr>\n",
       "      <th>9</th>\n",
       "      <td>86822392</td>\n",
       "      <td>17251304</td>\n",
       "      <td>3a65da8bd69dea534ad40271e3e5352</td>\n",
       "      <td>49691054@N00</td>\n",
       "      <td>Alexandre+Gacon</td>\n",
       "      <td>2005-05-17 15:46:50.0</td>\n",
       "      <td>1117820724</td>\n",
       "      <td>SONY+DSC-W1</td>\n",
       "      <td>DSC01407</td>\n",
       "      <td>None</td>\n",
       "      <td>france,lot,paysage,saintcirqlapopie</td>\n",
       "      <td>None</td>\n",
       "      <td>1.670951</td>\n",
       "      <td>44.466560</td>\n",
       "      <td>12</td>\n",
       "      <td>http://www.flickr.com/photos/49691054@N00/17251304/</td>\n",
       "      <td>http://farm1.staticflickr.com/11/17251304_af9b8de102.jpg</td>\n",
       "      <td>Attribution-NonCommercial-ShareAlike License</td>\n",
       "      <td>http://creativecommons.org/licenses/by-nc-sa/2.0/</td>\n",
       "      <td>11</td>\n",
       "      <td>1</td>\n",
       "      <td>af9b8de102</td>\n",
       "      <td>af9b8de102</td>\n",
       "      <td>jpg</td>\n",
       "      <td>0</td>\n",
       "    </tr>\n",
       "  </tbody>\n",
       "</table>\n",
       "</div>"
      ],
      "text/plain": [
       "       Line   PhotoID                         PhotoHash         UserNSID  \\\n",
       "0  80096796    834796  dc9b7584ecb34a448540bee3b38fe85c     77922700@N00   \n",
       "1  64666153   5477598    4c38199a877fba534860a365bf9c97     76384935@N00   \n",
       "2  82397565   5975164  2a76868b7eb18ea240d48e2941648582     70408381@N00   \n",
       "3  39862899   8060056   987ba5ffd786949496eda3a5fcf89b2     32323502@N00   \n",
       "4  64976931   8916795  b1e9a0bbfd8a221830461d39a6c7e1d3  51035823282@N01   \n",
       "5  82227190   9785366   7a4fad34c5724a9b92715e64ef81e5e     57366077@N00   \n",
       "6  80027775  15258293  abde63262e9157be4bea5e34c797b6c6     70786516@N00   \n",
       "7  75639873  15470300      348ee7682fea23977eec8b1e3bf1     77357393@N00   \n",
       "8  69533974  16396565    e4cf846d4386b53834c4c9ba9326fd     49691054@N00   \n",
       "9  86822392  17251304   3a65da8bd69dea534ad40271e3e5352     49691054@N00   \n",
       "\n",
       "      UserNickname              DateTaken  DateUploaded  \\\n",
       "0              iko  2004-09-15 19:41:25.0    1097582515   \n",
       "1        Chip_2904  2005-02-26 20:36:16.0    1109450176   \n",
       "2         scot2342  2004-07-31 10:12:52.0    1110087781   \n",
       "3          Julie70  2005-03-31 12:22:18.0    1112338974   \n",
       "4   alexdecarvalho  2005-04-08 17:56:02.0    1113079413   \n",
       "5       j.s.+clark  2005-03-17 01:18:20.0    1113841862   \n",
       "6           jmm403  2005-05-23 12:49:13.0    1116845353   \n",
       "7         muckster  2002-09-19 00:00:00.0    1116944075   \n",
       "8  Alexandre+Gacon  2005-04-02 16:32:55.0    1117445508   \n",
       "9  Alexandre+Gacon  2005-05-17 15:46:50.0    1117820724   \n",
       "\n",
       "                        CaptureDevice                            Title  \\\n",
       "0  PENTAX+Corporation+PENTAX+Optio+S4                        marseille   \n",
       "1                                None                     Quiz+Night+2   \n",
       "2                         NIKON+E4200                          Giverny   \n",
       "3                       SONY+DSC-P150              They+were+all+in+it   \n",
       "4               Canon+DIGITAL+IXUS+40                      Grupo+Corpo   \n",
       "5                         NIKON+E4300                         DSCN3782   \n",
       "6                                None  Les+mouleurs+d%C3%A9moulent+-+3   \n",
       "7                          NIKON+E900                     Bubble+House   \n",
       "8                         SONY+DSC-W1                         DSC00906   \n",
       "9                         SONY+DSC-W1                         DSC01407   \n",
       "\n",
       "                                                                                                                                                                                                                                                                                                                                                                                                                                                                                                                                                                                                                                                                                                                                                                                                                                                                                                                                                                                                                                                                                     Description  \\\n",
       "0                                                                                                                                                                                                                                                                                                                                                                                                                                                                                                                                                                                                                                                                                                                                                                                                                                                                                                                                                                                                                                                                                           None   \n",
       "1                                                                                                                                                                                                                                                                                                                                                                                                                                                                                                                                                                                                                                                                                                                                                                                                                                                                                                                                                                                                                                                                                           None   \n",
       "2                                                                                                                                                                                                                                                                                                                                                                                                                                                                                                                                                                                                                                                                                                                                                                                                                                                                                                                                                                                                                                                                   Giverny+flowers+Monet+France   \n",
       "3  There+will+be+always+loving+couples+in+Paris%2C+kissing+each+other.+It+is+good+to+know...+even+if+it+is+no+more+me.+Between+Notre+Dame+and+the+Seine+there+is+a+quiet+alley.%0ASuddenly%2C+my+eyes+falled+on+this+couple%3A+they+were+all+in+the+kiss+and+the+embrace%2C+showing+the+love+and+tenderness+to+each+other.+%0A%0AThat+is+also+one+of+my+prefered+photos.+One+of+the+things+I+liked+most+were+her+sensible+shows+and+how+she+had+to+be+almost+on+tips+of+her+feet+to+arrive+to+him+and+how+much+reciprocity+showed+in+this+image+from+this+middle+aged+couple.%0A%0AI+remember%2C+looking+at+it%2C+as+probably+I+did+when+I+first+looked+at+it%2C+a+certain+night%2C+long+long+time+ago%3A+I+was+40+years+old%2C+and+my+husband+from+wich+I+was+separating+told+me+%22you+are+too+old%2C+no+one+would+want+you+any+more%22.%0A%0AI+met+an+intelligent+and+tender+American%2C+went+to+diner%2C+showing+him+later+%22Paris%22.+%0AA+night%2C+behind+Notre+Dame++I+discovered+I+can+be+regarded+as+woman+and+with+tenderness+again%2C+and+that+all+is+not+lost+as+I+believed+before.   \n",
       "4                                                                                                                                                                                                                                                                                                                                                                                                                                                                                                                                                                                                                                                                                                                                                                                                                                                                                                                                                                                                                                                                                           None   \n",
       "5                                                                                                                                                                                                                                                                                                                                                                                                                                                                                                                                                                                                                                                                                                                                                                                                       Street+of+pushy+Greek+restaurateurs+%28Rue+de+la+Huchette%29.++%22Ey%2C+you+want+French%3F++French+is+here%21%21%22++This+was+sooo+tourist-thronged+it+made+me+long+for+rue+Lepic+or+even+rue+Cler.++Sounds+snobby%2C+but+what+a+difference.++This+looked+like+Duval+Street+in+Key+West.   \n",
       "6                                                                                                                                                                                                                                                                                                                                                                                                                                                                                                                                                                                                                                                                                                                                                                                                                                                                                                                                                                                                                                                Quand+les+stagiaires+investissent+les+lieux+...   \n",
       "7                                                                                                                                                                                                                                                                                                                                                                                                                                                                                                                                                                                                                                                                                                                                                                                                                                                                                                                                                                                                                                                                                           None   \n",
       "8                                                                                                                                                                                                                                                                                                                                                                                                                                                                                                                                                                                                                                                                                                                                                                                                                                                                                                                                                                                                                                                                                           None   \n",
       "9                                                                                                                                                                                                                                                                                                                                                                                                                                                                                                                                                                                                                                                                                                                                                                                                                                                                                                                                                                                                                                                                                           None   \n",
       "\n",
       "                                                                                                                                                                                                                                                                                                                                                                                                                                                                                                                                                                                                                                                                                                                                                         UserTags  \\\n",
       "0                                                                                                                                                                                                                                                                                                                                                                                                                                                                                                                                                                                                                                                                                                       city,cityproject,coucher+de+soleil,marseille,sunset,ville   \n",
       "1                                                                                                                                                                                                                                                                                                                                                                                                                                                                                                                                                                                                                                                                                                                                           france,lesarcs,skiing   \n",
       "2                                                                                                                                                                                                                                                                                                                                                                                                                                                                                                                                                                                                                                                                                                                               2004,flowers,france,giverny,monet   \n",
       "3  1-5-fav,100+most+interesting,100+pages,120+of+50000,2,2005,a4,balade,best+in+22000,bigfavs,blog,choice,couples,deux,flickr+most+favorited,flickrfavs,for+valentine+day+2010,france,gens,images,julie+kertesz,julie70,kett%C3%B6,love,march,master%27s+prefered,mc%2307,mes+favoris,meschoix,most+interesting,mostfav,my+favorites,my+prefered,my+preferred,pair,paires,paris,paris+5e,paris+strolls,parisians,parisien,parisienne,parisiens,people,people+in+paris,personnages,photo+julie+kertesz,photo-pots,photography+julie+kertesz,photos,portrait,prefered,quais,rencontr%C3%A9s+%C3%A0+paris,rencontres,seine,someofmyfavorites,street+photo,stroll,tenderness,tendresse,three+years,together,top,top+favorited,top+interesting,topfavs,topvjulie70,two   \n",
       "4                                                                                                                                                                                                                                                                                                                                                                                                                                                                                                                                                                                                                                                                                                   2005,brasil,brazil,dance,france,francebrazil,grupocorpo,paris   \n",
       "5                                                                                                                                                                                                                                                                                                                                                                                                                                                                                                                                                                                                                                                                                                                                                    france,paris   \n",
       "6                                                                                                                                                                                                                                                                                                                                                                                                                                                                                                                                                                                                                                                                              france,home,installation,nature,plaze1d4e820be705d62083b3c2a0d581cb4c,plazes,setup   \n",
       "7                                                                                                                                                                                                                                                                                                                                                                                                                                                                                                                                                                                                                                                                                                     cotedazur,france,mediterranean,riviera,rock,sea,villa,water   \n",
       "8                                                                                                                                                                                                                                                                                                                                                                                                                                                                                                                                                                                                                                                                                                                                                            None   \n",
       "9                                                                                                                                                                                                                                                                                                                                                                                                                                                                                                                                                                                                                                                                                                                             france,lot,paysage,saintcirqlapopie   \n",
       "\n",
       "  MachineTags  Longitude   Latitude  Accuracy  \\\n",
       "0        None   5.371059  43.284172        16   \n",
       "1        None   6.832551  45.573586        13   \n",
       "2        None   1.524825  49.077106        16   \n",
       "3        None   2.346675  48.852306        14   \n",
       "4        None   2.304210  48.866394        15   \n",
       "5        None   2.348333  48.852177        16   \n",
       "6        None   1.783304  47.866096        16   \n",
       "7        None   7.076911  43.576412        10   \n",
       "8        None   4.864540  49.547153        12   \n",
       "9        None   1.670951  44.466560        12   \n",
       "\n",
       "                                                     URL  \\\n",
       "0      http://www.flickr.com/photos/77922700@N00/834796/   \n",
       "1     http://www.flickr.com/photos/76384935@N00/5477598/   \n",
       "2     http://www.flickr.com/photos/70408381@N00/5975164/   \n",
       "3     http://www.flickr.com/photos/32323502@N00/8060056/   \n",
       "4  http://www.flickr.com/photos/51035823282@N01/8916795/   \n",
       "5     http://www.flickr.com/photos/57366077@N00/9785366/   \n",
       "6    http://www.flickr.com/photos/70786516@N00/15258293/   \n",
       "7    http://www.flickr.com/photos/77357393@N00/15470300/   \n",
       "8    http://www.flickr.com/photos/49691054@N00/16396565/   \n",
       "9    http://www.flickr.com/photos/49691054@N00/17251304/   \n",
       "\n",
       "                                                DownloadURL  \\\n",
       "0     http://farm1.staticflickr.com/1/834796_9e5d1edb3a.jpg   \n",
       "1    http://farm1.staticflickr.com/6/5477598_d4ec281653.jpg   \n",
       "2    http://farm1.staticflickr.com/3/5975164_5ebb925aa1.jpg   \n",
       "3    http://farm1.staticflickr.com/4/8060056_df5ed9e19b.jpg   \n",
       "4    http://farm1.staticflickr.com/8/8916795_11c551a24b.jpg   \n",
       "5    http://farm1.staticflickr.com/4/9785366_975272aa42.jpg   \n",
       "6   http://farm1.staticflickr.com/9/15258293_21ad650046.jpg   \n",
       "7  http://farm1.staticflickr.com/13/15470300_2dbe9d8196.jpg   \n",
       "8  http://farm1.staticflickr.com/14/16396565_a3f3d22780.jpg   \n",
       "9  http://farm1.staticflickr.com/11/17251304_af9b8de102.jpg   \n",
       "\n",
       "                                    LicenseName  \\\n",
       "0    Attribution-NonCommercial-NoDerivs License   \n",
       "1  Attribution-NonCommercial-ShareAlike License   \n",
       "2    Attribution-NonCommercial-NoDerivs License   \n",
       "3  Attribution-NonCommercial-ShareAlike License   \n",
       "4  Attribution-NonCommercial-ShareAlike License   \n",
       "5  Attribution-NonCommercial-ShareAlike License   \n",
       "6    Attribution-NonCommercial-NoDerivs License   \n",
       "7  Attribution-NonCommercial-ShareAlike License   \n",
       "8  Attribution-NonCommercial-ShareAlike License   \n",
       "9  Attribution-NonCommercial-ShareAlike License   \n",
       "\n",
       "                                          LicenseURL  ServerID  FarmID  \\\n",
       "0  http://creativecommons.org/licenses/by-nc-nd/2.0/         1       1   \n",
       "1  http://creativecommons.org/licenses/by-nc-sa/2.0/         6       1   \n",
       "2  http://creativecommons.org/licenses/by-nc-nd/2.0/         3       1   \n",
       "3  http://creativecommons.org/licenses/by-nc-sa/2.0/         4       1   \n",
       "4  http://creativecommons.org/licenses/by-nc-sa/2.0/         8       1   \n",
       "5  http://creativecommons.org/licenses/by-nc-sa/2.0/         4       1   \n",
       "6  http://creativecommons.org/licenses/by-nc-nd/2.0/         9       1   \n",
       "7  http://creativecommons.org/licenses/by-nc-sa/2.0/        13       1   \n",
       "8  http://creativecommons.org/licenses/by-nc-sa/2.0/        14       1   \n",
       "9  http://creativecommons.org/licenses/by-nc-sa/2.0/        11       1   \n",
       "\n",
       "       Secret SecretOriginal Extension  Marker  \n",
       "0  9e5d1edb3a     9e5d1edb3a       jpg       0  \n",
       "1  d4ec281653     d4ec281653       jpg       0  \n",
       "2  5ebb925aa1     5ebb925aa1       jpg       0  \n",
       "3  df5ed9e19b     df5ed9e19b       jpg       0  \n",
       "4  11c551a24b     11c551a24b       jpg       0  \n",
       "5  975272aa42     975272aa42       jpg       0  \n",
       "6  21ad650046     21ad650046       jpg       0  \n",
       "7  2dbe9d8196     2dbe9d8196       jpg       0  \n",
       "8  a3f3d22780     a3f3d22780       jpg       0  \n",
       "9  af9b8de102     af9b8de102       jpg       0  "
      ]
     },
     "execution_count": 20,
     "metadata": {},
     "output_type": "execute_result"
    }
   ],
   "source": [
    "def lire_yfcc(nom_fichier):\n",
    "    local_dir = \"/local/jarrad/bd\"\n",
    "    res = spark.read.parquet(local_dir + \"/\" + nom_fichier).persist()\n",
    "    return res\n",
    "\n",
    "yfcc = lire_yfcc(P.yfcc_file)\n",
    "display(yfcc)"
   ]
  },
  {
   "cell_type": "markdown",
   "id": "935bbe13-c8bb-4bf1-b750-6dbca6eead29",
   "metadata": {},
   "source": [
    "### Visits table"
   ]
  },
  {
   "cell_type": "code",
   "execution_count": 21,
   "id": "448c8024-ad36-4ed2-8a00-cf2c37bb5b3f",
   "metadata": {},
   "outputs": [],
   "source": [
    "def visite(yfcc):\n",
    "    yfcc.createOrReplaceTempView(\"YFCC\")\n",
    "    visite = \"\"\"\n",
    "    select photoID as photo, userNSID as user, timestamp(datetaken) as datetime, date(datetaken) as jour, latitude, longitude,  concat(round(latitude,4), '-', round(longitude,4)) as gridID\n",
    "    from YFCC\n",
    "    \"\"\"\n",
    "    return spark.sql(visite)"
   ]
  },
  {
   "cell_type": "code",
   "execution_count": 22,
   "id": "6fdbb777-883f-4a20-85ec-98bac73c8436",
   "metadata": {},
   "outputs": [
    {
     "data": {
      "text/html": [
       "<div>\n",
       "<style scoped>\n",
       "    .dataframe tbody tr th:only-of-type {\n",
       "        vertical-align: middle;\n",
       "    }\n",
       "\n",
       "    .dataframe tbody tr th {\n",
       "        vertical-align: top;\n",
       "    }\n",
       "\n",
       "    .dataframe thead th {\n",
       "        text-align: right;\n",
       "    }\n",
       "</style>\n",
       "<table border=\"1\" class=\"dataframe\">\n",
       "  <thead>\n",
       "    <tr style=\"text-align: right;\">\n",
       "      <th></th>\n",
       "      <th>photo</th>\n",
       "      <th>user</th>\n",
       "      <th>datetime</th>\n",
       "      <th>jour</th>\n",
       "      <th>latitude</th>\n",
       "      <th>longitude</th>\n",
       "      <th>gridID</th>\n",
       "    </tr>\n",
       "  </thead>\n",
       "  <tbody>\n",
       "    <tr>\n",
       "      <th>0</th>\n",
       "      <td>834796</td>\n",
       "      <td>77922700@N00</td>\n",
       "      <td>2004-09-15 19:41:25</td>\n",
       "      <td>2004-09-15</td>\n",
       "      <td>43.284172</td>\n",
       "      <td>5.371059</td>\n",
       "      <td>43.2842-5.3711</td>\n",
       "    </tr>\n",
       "    <tr>\n",
       "      <th>1</th>\n",
       "      <td>5477598</td>\n",
       "      <td>76384935@N00</td>\n",
       "      <td>2005-02-26 20:36:16</td>\n",
       "      <td>2005-02-26</td>\n",
       "      <td>45.573586</td>\n",
       "      <td>6.832551</td>\n",
       "      <td>45.5736-6.8326</td>\n",
       "    </tr>\n",
       "    <tr>\n",
       "      <th>2</th>\n",
       "      <td>5975164</td>\n",
       "      <td>70408381@N00</td>\n",
       "      <td>2004-07-31 10:12:52</td>\n",
       "      <td>2004-07-31</td>\n",
       "      <td>49.077106</td>\n",
       "      <td>1.524825</td>\n",
       "      <td>49.0771-1.5248</td>\n",
       "    </tr>\n",
       "    <tr>\n",
       "      <th>3</th>\n",
       "      <td>8060056</td>\n",
       "      <td>32323502@N00</td>\n",
       "      <td>2005-03-31 12:22:18</td>\n",
       "      <td>2005-03-31</td>\n",
       "      <td>48.852306</td>\n",
       "      <td>2.346675</td>\n",
       "      <td>48.8523-2.3467</td>\n",
       "    </tr>\n",
       "    <tr>\n",
       "      <th>4</th>\n",
       "      <td>8916795</td>\n",
       "      <td>51035823282@N01</td>\n",
       "      <td>2005-04-08 17:56:02</td>\n",
       "      <td>2005-04-08</td>\n",
       "      <td>48.866394</td>\n",
       "      <td>2.304210</td>\n",
       "      <td>48.8664-2.3042</td>\n",
       "    </tr>\n",
       "    <tr>\n",
       "      <th>5</th>\n",
       "      <td>9785366</td>\n",
       "      <td>57366077@N00</td>\n",
       "      <td>2005-03-17 01:18:20</td>\n",
       "      <td>2005-03-17</td>\n",
       "      <td>48.852177</td>\n",
       "      <td>2.348333</td>\n",
       "      <td>48.8522-2.3483</td>\n",
       "    </tr>\n",
       "    <tr>\n",
       "      <th>6</th>\n",
       "      <td>15258293</td>\n",
       "      <td>70786516@N00</td>\n",
       "      <td>2005-05-23 12:49:13</td>\n",
       "      <td>2005-05-23</td>\n",
       "      <td>47.866096</td>\n",
       "      <td>1.783304</td>\n",
       "      <td>47.8661-1.7833</td>\n",
       "    </tr>\n",
       "    <tr>\n",
       "      <th>7</th>\n",
       "      <td>15470300</td>\n",
       "      <td>77357393@N00</td>\n",
       "      <td>2002-09-19 00:00:00</td>\n",
       "      <td>2002-09-19</td>\n",
       "      <td>43.576412</td>\n",
       "      <td>7.076911</td>\n",
       "      <td>43.5764-7.0769</td>\n",
       "    </tr>\n",
       "    <tr>\n",
       "      <th>8</th>\n",
       "      <td>16396565</td>\n",
       "      <td>49691054@N00</td>\n",
       "      <td>2005-04-02 16:32:55</td>\n",
       "      <td>2005-04-02</td>\n",
       "      <td>49.547153</td>\n",
       "      <td>4.864540</td>\n",
       "      <td>49.5472-4.8645</td>\n",
       "    </tr>\n",
       "    <tr>\n",
       "      <th>9</th>\n",
       "      <td>17251304</td>\n",
       "      <td>49691054@N00</td>\n",
       "      <td>2005-05-17 15:46:50</td>\n",
       "      <td>2005-05-17</td>\n",
       "      <td>44.466560</td>\n",
       "      <td>1.670951</td>\n",
       "      <td>44.4666-1.671</td>\n",
       "    </tr>\n",
       "  </tbody>\n",
       "</table>\n",
       "</div>"
      ],
      "text/plain": [
       "      photo             user            datetime        jour   latitude  \\\n",
       "0    834796     77922700@N00 2004-09-15 19:41:25  2004-09-15  43.284172   \n",
       "1   5477598     76384935@N00 2005-02-26 20:36:16  2005-02-26  45.573586   \n",
       "2   5975164     70408381@N00 2004-07-31 10:12:52  2004-07-31  49.077106   \n",
       "3   8060056     32323502@N00 2005-03-31 12:22:18  2005-03-31  48.852306   \n",
       "4   8916795  51035823282@N01 2005-04-08 17:56:02  2005-04-08  48.866394   \n",
       "5   9785366     57366077@N00 2005-03-17 01:18:20  2005-03-17  48.852177   \n",
       "6  15258293     70786516@N00 2005-05-23 12:49:13  2005-05-23  47.866096   \n",
       "7  15470300     77357393@N00 2002-09-19 00:00:00  2002-09-19  43.576412   \n",
       "8  16396565     49691054@N00 2005-04-02 16:32:55  2005-04-02  49.547153   \n",
       "9  17251304     49691054@N00 2005-05-17 15:46:50  2005-05-17  44.466560   \n",
       "\n",
       "   longitude          gridID  \n",
       "0   5.371059  43.2842-5.3711  \n",
       "1   6.832551  45.5736-6.8326  \n",
       "2   1.524825  49.0771-1.5248  \n",
       "3   2.346675  48.8523-2.3467  \n",
       "4   2.304210  48.8664-2.3042  \n",
       "5   2.348333  48.8522-2.3483  \n",
       "6   1.783304  47.8661-1.7833  \n",
       "7   7.076911  43.5764-7.0769  \n",
       "8   4.864540  49.5472-4.8645  \n",
       "9   1.670951   44.4666-1.671  "
      ]
     },
     "execution_count": 22,
     "metadata": {},
     "output_type": "execute_result"
    }
   ],
   "source": [
    "visite1 = visite(yfcc)\n",
    "display(visite1)"
   ]
  },
  {
   "cell_type": "markdown",
   "id": "ac42def4-1a06-447a-86c1-1f205e8d163c",
   "metadata": {},
   "source": [
    "### VisiteRound3\n",
    "Mesh of 100 meters"
   ]
  },
  {
   "cell_type": "code",
   "execution_count": 23,
   "id": "c7b06a45-5768-4ca6-8bbb-45cf3e9e52ff",
   "metadata": {},
   "outputs": [],
   "source": [
    "def visite_round3(visite):\n",
    "    visite.createOrReplaceTempView(\"Visite\")\n",
    "    query = \"\"\"\n",
    "            select user, jour, datetime, round(latitude, 3) as latitude , round(longitude, 3) as longitude\n",
    "            from Visite\n",
    "            order by latitude, longitude;\n",
    "            \"\"\"\n",
    "    return spark.sql(query)"
   ]
  },
  {
   "cell_type": "code",
   "execution_count": 24,
   "id": "a8c7123b-92b2-4fa3-868f-94bb88f3235d",
   "metadata": {},
   "outputs": [
    {
     "data": {
      "text/html": [
       "<div>\n",
       "<style scoped>\n",
       "    .dataframe tbody tr th:only-of-type {\n",
       "        vertical-align: middle;\n",
       "    }\n",
       "\n",
       "    .dataframe tbody tr th {\n",
       "        vertical-align: top;\n",
       "    }\n",
       "\n",
       "    .dataframe thead th {\n",
       "        text-align: right;\n",
       "    }\n",
       "</style>\n",
       "<table border=\"1\" class=\"dataframe\">\n",
       "  <thead>\n",
       "    <tr style=\"text-align: right;\">\n",
       "      <th></th>\n",
       "      <th>user</th>\n",
       "      <th>jour</th>\n",
       "      <th>datetime</th>\n",
       "      <th>latitude</th>\n",
       "      <th>longitude</th>\n",
       "    </tr>\n",
       "  </thead>\n",
       "  <tbody>\n",
       "    <tr>\n",
       "      <th>0</th>\n",
       "      <td>101884347@N06</td>\n",
       "      <td>2013-10-17</td>\n",
       "      <td>2013-10-17 12:47:25</td>\n",
       "      <td>-20.391001</td>\n",
       "      <td>164.580002</td>\n",
       "    </tr>\n",
       "    <tr>\n",
       "      <th>1</th>\n",
       "      <td>27747946@N00</td>\n",
       "      <td>2008-09-10</td>\n",
       "      <td>2008-09-10 05:27:57</td>\n",
       "      <td>41.313000</td>\n",
       "      <td>9.217000</td>\n",
       "    </tr>\n",
       "    <tr>\n",
       "      <th>2</th>\n",
       "      <td>27747946@N00</td>\n",
       "      <td>2008-09-10</td>\n",
       "      <td>2008-09-10 08:26:17</td>\n",
       "      <td>41.319000</td>\n",
       "      <td>8.973000</td>\n",
       "    </tr>\n",
       "  </tbody>\n",
       "</table>\n",
       "</div>"
      ],
      "text/plain": [
       "            user        jour            datetime   latitude   longitude\n",
       "0  101884347@N06  2013-10-17 2013-10-17 12:47:25 -20.391001  164.580002\n",
       "1   27747946@N00  2008-09-10 2008-09-10 05:27:57  41.313000    9.217000\n",
       "2   27747946@N00  2008-09-10 2008-09-10 08:26:17  41.319000    8.973000"
      ]
     },
     "execution_count": 24,
     "metadata": {},
     "output_type": "execute_result"
    }
   ],
   "source": [
    "visiteRound = visite_round3(visite1)\n",
    "display(visiteRound, 3)"
   ]
  },
  {
   "cell_type": "markdown",
   "id": "9d9b4599-a119-470e-bfda-8ad686b1a76d",
   "metadata": {
    "tags": []
   },
   "source": [
    "#### Méthode1"
   ]
  },
  {
   "cell_type": "markdown",
   "id": "42fce478-f9e1-43ba-b964-9aed0e522885",
   "metadata": {
    "jp-MarkdownHeadingCollapsed": true,
    "tags": []
   },
   "source": [
    "#### Méthode2"
   ]
  },
  {
   "cell_type": "code",
   "execution_count": 31,
   "id": "e9bc977d-b84c-45d0-86f4-26de0944c5b2",
   "metadata": {},
   "outputs": [],
   "source": [
    "#from math import pi\n",
    "#def round_to_n_kilometers(degree_coordinate, n):\n",
    "#    # Approximate number of meters for 1 degree close to the equator\n",
    "#    as_degree = degree_coordinate + (n / 6378) * (180 / pi)\n",
    "#    return as_degree\n",
    "\n",
    "\n",
    "#spark.udf.register(\"round_to_n_kilometers\", round_to_n_kilometers, DoubleType())"
   ]
  },
  {
   "cell_type": "code",
   "execution_count": 32,
   "id": "78e6f7e1-8abd-482f-bf26-ec37aacc1b60",
   "metadata": {},
   "outputs": [],
   "source": [
    "#def visit_round_to_n_kilometers(visite):\n",
    "#    visite.createOrReplaceTempView(\"Visite\")\n",
    "#    query = \"\"\"\n",
    "#            select user, jour, datetime, round_to_n_kilometers(latitude, float(0.2)) as latitude , round_to_n_kilometers(longitude, float(0.2)) as longitude\n",
    "#            from Visite\n",
    "#            order by latitude, longitude;\n",
    "#            \"\"\"\n",
    "#    return spark.sql(query)"
   ]
  },
  {
   "cell_type": "code",
   "execution_count": 33,
   "id": "0f76a9a2-f1af-4383-845f-2d72ccd2bab1",
   "metadata": {},
   "outputs": [],
   "source": [
    "#visiteRound = visit_round_to_n_kilometers(visite1)\n",
    "#display(visiteRound, 3)"
   ]
  },
  {
   "cell_type": "code",
   "execution_count": 34,
   "id": "74dd6c7f-82f2-446f-9ad7-065c78550ad3",
   "metadata": {},
   "outputs": [],
   "source": [
    "#visiteRound.count()"
   ]
  },
  {
   "cell_type": "markdown",
   "id": "f19113f2-c767-4860-90eb-d23dea46079a",
   "metadata": {
    "jp-MarkdownHeadingCollapsed": true,
    "tags": []
   },
   "source": [
    "#### Méthode3"
   ]
  },
  {
   "cell_type": "code",
   "execution_count": 35,
   "id": "45d21011-c258-411e-ba14-b88c7b1ed3d2",
   "metadata": {},
   "outputs": [],
   "source": [
    "#def round_to_n_km(degree_coordinate, n):\n",
    "#    kilometers = degree_coordinate * 111\n",
    "#    rounded_kilometers = round(kilometers / n) * n\n",
    "#    as_degree = rounded_kilometers / 111\n",
    "#    return as_degree\n",
    "#spark.udf.register(\"round_to_n_km\", round_to_n_km, DoubleType())"
   ]
  },
  {
   "cell_type": "code",
   "execution_count": 36,
   "id": "c6397699-786f-4355-81a6-5d1012ef6c37",
   "metadata": {},
   "outputs": [],
   "source": [
    "#def visit_round_to_n_kilometers(visite):\n",
    "#    visite.createOrReplaceTempView(\"visite\")\n",
    "#    query = \"\"\"\n",
    "#            select user, jour, datetime, round_to_n_km(latitude, float(0.05)) as latitude , round_to_n_km(longitude, float(0.05)) as longitude\n",
    "#            from visite\n",
    "#            order by latitude, longitude;\n",
    "#            \"\"\"\n",
    "#    return spark.sql(query)"
   ]
  },
  {
   "cell_type": "code",
   "execution_count": 37,
   "id": "bdefc661-b6a9-4e55-8447-cb4e7084f49e",
   "metadata": {},
   "outputs": [],
   "source": [
    "#visiteRound = visit_round_to_n_kilometers(visite1)\n",
    "#display(visiteRound, 3)"
   ]
  },
  {
   "cell_type": "markdown",
   "id": "1a34ec69-7d19-454b-9a44-9deefe5e08f0",
   "metadata": {
    "jp-MarkdownHeadingCollapsed": true,
    "tags": []
   },
   "source": [
    "#### Méthode4"
   ]
  },
  {
   "cell_type": "code",
   "execution_count": 38,
   "id": "632403af-3a55-4898-a003-2df4b1288db6",
   "metadata": {},
   "outputs": [],
   "source": [
    "#import math\n",
    "#from math import pi,cos,sin,tan,atan\n",
    "\n",
    "#def round_latitude_to_n_m(degree_lat, n):\n",
    "#    R=6378137\n",
    "#    dLat = n/R\n",
    "#    lat_result = degree_lat + dLat * 180/pi\n",
    "\n",
    "#    return lat_result\n",
    "\n",
    "#spark.udf.register(\"round_latitude_to_n_m\", round_latitude_to_n_m, DoubleType())"
   ]
  },
  {
   "cell_type": "code",
   "execution_count": 39,
   "id": "2b6c657e-a8b7-4139-8e57-4c088ad03bdc",
   "metadata": {},
   "outputs": [],
   "source": [
    "#round_latitude_to_n_m(51, 100)"
   ]
  },
  {
   "cell_type": "code",
   "execution_count": 40,
   "id": "0234ff74-5c90-4925-bfdc-e79d11144ec4",
   "metadata": {},
   "outputs": [],
   "source": [
    "#def round_longitude_to_n_m(degree_long, n):\n",
    "#    R=6378137\n",
    "#    dLon = n/(R*cos(pi*degree_long/180))\n",
    "#    long_result = degree_long + dLon * 180/pi \n",
    "#    return long_result\n",
    "\n",
    "#spark.udf.register(\"round_longitude_to_n_m\", round_longitude_to_n_m, DoubleType())"
   ]
  },
  {
   "cell_type": "code",
   "execution_count": 41,
   "id": "0c768222-f3e6-4574-a1ef-539f626b8fe0",
   "metadata": {},
   "outputs": [],
   "source": [
    "#round_longitude_to_n_m(51.3, 100)"
   ]
  },
  {
   "cell_type": "code",
   "execution_count": 42,
   "id": "ae61397c-bc04-4812-a3b6-b30189ce07ae",
   "metadata": {},
   "outputs": [],
   "source": [
    "#def visit_round_to_n_m(visite):\n",
    "#    visite.createOrReplaceTempView(\"visite\")\n",
    "#    query = \"\"\"\n",
    "#            select user, jour, datetime, round_latitude_to_n_m(latitude, 200) as latitude , round_longitude_to_n_m(longitude, 200) as longitude\n",
    "#            from visite\n",
    "#            order by latitude, longitude;\n",
    "#            \"\"\"\n",
    "#    return spark.sql(query)"
   ]
  },
  {
   "cell_type": "code",
   "execution_count": 43,
   "id": "17929a05-824f-489b-b037-7c76eeec9f59",
   "metadata": {},
   "outputs": [],
   "source": [
    "#visiteRound = visit_round_to_n_m(visite1)\n",
    "#display(visiteRound, 3)"
   ]
  },
  {
   "cell_type": "code",
   "execution_count": null,
   "id": "dfb868d6-bec8-4979-a7f3-881241af93c3",
   "metadata": {},
   "outputs": [],
   "source": []
  },
  {
   "cell_type": "markdown",
   "id": "722b4592-027e-4372-a755-ee39d8ba87ba",
   "metadata": {
    "tags": []
   },
   "source": [
    "### POIs in France\n",
    "Keep only POIs in France"
   ]
  },
  {
   "cell_type": "markdown",
   "id": "c688c5a2-5f88-4c9d-9f0d-8e81f70b2ded",
   "metadata": {},
   "source": [
    "#### distinct latitudes, longitudes in the dataset, and their frequency"
   ]
  },
  {
   "cell_type": "code",
   "execution_count": 44,
   "id": "58e8973c-b5b7-467b-a9a7-5a22d76ffd93",
   "metadata": {},
   "outputs": [],
   "source": [
    "def lat_long_freq(visite_round3):\n",
    "    visite_round3.createOrReplaceTempView(\"Visite_Round\")\n",
    "    query = \"\"\"\n",
    "            select latitude, longitude, count(*) as freq\n",
    "            from Visite_Round\n",
    "            group by latitude, longitude\n",
    "            order by freq desc        \n",
    "            \"\"\"\n",
    "    return spark.sql(query)"
   ]
  },
  {
   "cell_type": "code",
   "execution_count": 45,
   "id": "5c37a527-ad4d-48e7-9327-7f8d70caa1ca",
   "metadata": {},
   "outputs": [
    {
     "data": {
      "text/html": [
       "<div>\n",
       "<style scoped>\n",
       "    .dataframe tbody tr th:only-of-type {\n",
       "        vertical-align: middle;\n",
       "    }\n",
       "\n",
       "    .dataframe tbody tr th {\n",
       "        vertical-align: top;\n",
       "    }\n",
       "\n",
       "    .dataframe thead th {\n",
       "        text-align: right;\n",
       "    }\n",
       "</style>\n",
       "<table border=\"1\" class=\"dataframe\">\n",
       "  <thead>\n",
       "    <tr style=\"text-align: right;\">\n",
       "      <th></th>\n",
       "      <th>latitude</th>\n",
       "      <th>longitude</th>\n",
       "      <th>freq</th>\n",
       "    </tr>\n",
       "  </thead>\n",
       "  <tbody>\n",
       "    <tr>\n",
       "      <th>0</th>\n",
       "      <td>45.837002</td>\n",
       "      <td>4.826</td>\n",
       "      <td>14342</td>\n",
       "    </tr>\n",
       "    <tr>\n",
       "      <th>1</th>\n",
       "      <td>48.861000</td>\n",
       "      <td>2.336</td>\n",
       "      <td>9919</td>\n",
       "    </tr>\n",
       "    <tr>\n",
       "      <th>2</th>\n",
       "      <td>48.856998</td>\n",
       "      <td>2.341</td>\n",
       "      <td>8311</td>\n",
       "    </tr>\n",
       "    <tr>\n",
       "      <th>3</th>\n",
       "      <td>48.858002</td>\n",
       "      <td>2.294</td>\n",
       "      <td>7467</td>\n",
       "    </tr>\n",
       "    <tr>\n",
       "      <th>4</th>\n",
       "      <td>48.853001</td>\n",
       "      <td>2.349</td>\n",
       "      <td>7205</td>\n",
       "    </tr>\n",
       "  </tbody>\n",
       "</table>\n",
       "</div>"
      ],
      "text/plain": [
       "    latitude  longitude   freq\n",
       "0  45.837002      4.826  14342\n",
       "1  48.861000      2.336   9919\n",
       "2  48.856998      2.341   8311\n",
       "3  48.858002      2.294   7467\n",
       "4  48.853001      2.349   7205"
      ]
     },
     "execution_count": 45,
     "metadata": {},
     "output_type": "execute_result"
    }
   ],
   "source": [
    "frequence = lat_long_freq(visiteRound)\n",
    "display(frequence, 5)"
   ]
  },
  {
   "cell_type": "code",
   "execution_count": 47,
   "id": "38518f3d-22ff-4f3f-a64f-7bbe809c592b",
   "metadata": {},
   "outputs": [],
   "source": [
    "def bounding_box_France(table_LatLongFrance):\n",
    "    table_LatLongFrance.createOrReplaceTempView(\"LatLongFrance\")\n",
    "    query = \"\"\"\n",
    "            select * \n",
    "            from LatLongFrance\n",
    "            where latitude between  41.29097926752132 and 51.4708053796387\n",
    "            and longitude between  -6.04365244747813 and 9.8145023996386\n",
    "            ;\n",
    "            \n",
    "            \"\"\"\n",
    "    return spark.sql(query)"
   ]
  },
  {
   "cell_type": "code",
   "execution_count": 48,
   "id": "96a4472d-57e8-44cf-b0b5-609099e2d8b1",
   "metadata": {},
   "outputs": [
    {
     "data": {
      "text/html": [
       "<div>\n",
       "<style scoped>\n",
       "    .dataframe tbody tr th:only-of-type {\n",
       "        vertical-align: middle;\n",
       "    }\n",
       "\n",
       "    .dataframe tbody tr th {\n",
       "        vertical-align: top;\n",
       "    }\n",
       "\n",
       "    .dataframe thead th {\n",
       "        text-align: right;\n",
       "    }\n",
       "</style>\n",
       "<table border=\"1\" class=\"dataframe\">\n",
       "  <thead>\n",
       "    <tr style=\"text-align: right;\">\n",
       "      <th></th>\n",
       "      <th>latitude</th>\n",
       "      <th>longitude</th>\n",
       "      <th>freq</th>\n",
       "    </tr>\n",
       "  </thead>\n",
       "  <tbody>\n",
       "    <tr>\n",
       "      <th>0</th>\n",
       "      <td>45.837002</td>\n",
       "      <td>4.826</td>\n",
       "      <td>14342</td>\n",
       "    </tr>\n",
       "    <tr>\n",
       "      <th>1</th>\n",
       "      <td>48.861000</td>\n",
       "      <td>2.336</td>\n",
       "      <td>9919</td>\n",
       "    </tr>\n",
       "    <tr>\n",
       "      <th>2</th>\n",
       "      <td>48.856998</td>\n",
       "      <td>2.341</td>\n",
       "      <td>8311</td>\n",
       "    </tr>\n",
       "    <tr>\n",
       "      <th>3</th>\n",
       "      <td>48.858002</td>\n",
       "      <td>2.294</td>\n",
       "      <td>7467</td>\n",
       "    </tr>\n",
       "    <tr>\n",
       "      <th>4</th>\n",
       "      <td>48.853001</td>\n",
       "      <td>2.349</td>\n",
       "      <td>7205</td>\n",
       "    </tr>\n",
       "    <tr>\n",
       "      <th>5</th>\n",
       "      <td>48.844002</td>\n",
       "      <td>2.294</td>\n",
       "      <td>7096</td>\n",
       "    </tr>\n",
       "    <tr>\n",
       "      <th>6</th>\n",
       "      <td>48.874001</td>\n",
       "      <td>2.295</td>\n",
       "      <td>7041</td>\n",
       "    </tr>\n",
       "    <tr>\n",
       "      <th>7</th>\n",
       "      <td>48.858002</td>\n",
       "      <td>2.295</td>\n",
       "      <td>6080</td>\n",
       "    </tr>\n",
       "    <tr>\n",
       "      <th>8</th>\n",
       "      <td>48.853001</td>\n",
       "      <td>2.350</td>\n",
       "      <td>6043</td>\n",
       "    </tr>\n",
       "    <tr>\n",
       "      <th>9</th>\n",
       "      <td>48.855999</td>\n",
       "      <td>2.622</td>\n",
       "      <td>4743</td>\n",
       "    </tr>\n",
       "  </tbody>\n",
       "</table>\n",
       "</div>"
      ],
      "text/plain": [
       "    latitude  longitude   freq\n",
       "0  45.837002      4.826  14342\n",
       "1  48.861000      2.336   9919\n",
       "2  48.856998      2.341   8311\n",
       "3  48.858002      2.294   7467\n",
       "4  48.853001      2.349   7205\n",
       "5  48.844002      2.294   7096\n",
       "6  48.874001      2.295   7041\n",
       "7  48.858002      2.295   6080\n",
       "8  48.853001      2.350   6043\n",
       "9  48.855999      2.622   4743"
      ]
     },
     "execution_count": 48,
     "metadata": {},
     "output_type": "execute_result"
    }
   ],
   "source": [
    "latlongFrance = bounding_box_France(frequence)\n",
    "display(latlongFrance)"
   ]
  },
  {
   "cell_type": "code",
   "execution_count": 49,
   "id": "5e5469be-4d85-4d88-9c28-80ec4b9e37d7",
   "metadata": {},
   "outputs": [
    {
     "data": {
      "text/plain": [
       "220959"
      ]
     },
     "execution_count": 49,
     "metadata": {},
     "output_type": "execute_result"
    }
   ],
   "source": [
    "latlongFrance.count()"
   ]
  },
  {
   "cell_type": "markdown",
   "id": "9b1c1cb4-d92d-451c-a3c8-967d3e85150a",
   "metadata": {
    "tags": []
   },
   "source": [
    "#### numbering the POIs"
   ]
  },
  {
   "cell_type": "code",
   "execution_count": 50,
   "id": "81a9a0fb-c82d-40e3-80f8-33df341d8fe1",
   "metadata": {},
   "outputs": [],
   "source": [
    "def numorer_POI(latLongFrance):\n",
    "    latLongFrance.createOrReplaceTempView(\"numPOI\")\n",
    "    query = \"\"\"\n",
    "            select  latitude, longitude, row_number() over (order by latitude, longitude) as num\n",
    "            from numPOI\n",
    "            order by latitude, longitude\n",
    "            ;\n",
    "            \n",
    "            \"\"\"\n",
    "    return spark.sql(query)"
   ]
  },
  {
   "cell_type": "markdown",
   "id": "a00c9b10-e6c7-44ba-bce1-93bd105625bd",
   "metadata": {},
   "source": [
    "### Initial set with POI numbers"
   ]
  },
  {
   "cell_type": "code",
   "execution_count": 53,
   "id": "f3b2050a-7f1e-48ce-a631-3a94c79132a4",
   "metadata": {},
   "outputs": [],
   "source": [
    "def visiteNum(table_numPOI, table_visiteRound3):\n",
    "    table_numPOI.createOrReplaceTempView(\"numPOII\")\n",
    "    table_visiteRound3.createOrReplaceTempView(\"VisiteRoundd3\")\n",
    "    \n",
    "    query = \"\"\"\n",
    "            select v.*, n.num\n",
    "            from VisiteRoundd3 v, numPOII n\n",
    "            where v.latitude = n.latitude and v.longitude = n.longitude;\n",
    "\n",
    "            \n",
    "            \"\"\"\n",
    "    return spark.sql(query)"
   ]
  },
  {
   "cell_type": "markdown",
   "id": "aec3db1d-e534-4d60-847e-5f8e12c939da",
   "metadata": {},
   "source": [
    "### Trajectories construction"
   ]
  },
  {
   "cell_type": "code",
   "execution_count": 56,
   "id": "ad899985-dd30-4b57-9b88-72184ed8ed1c",
   "metadata": {},
   "outputs": [
    {
     "data": {
      "text/plain": [
       "<function __main__.get_trajectoires(listeCouples)>"
      ]
     },
     "execution_count": 56,
     "metadata": {},
     "output_type": "execute_result"
    }
   ],
   "source": [
    "def get_trajectoires (listeCouples):\n",
    "    listeCouples.sort()\n",
    "    liste_poi = [poi for d,poi in listeCouples]\n",
    "    return get_trajectoires_V3(liste_poi)\n",
    "\n",
    "\n",
    "def get_trajectoires_V3(liste_poi):    \n",
    "    results = []\n",
    "    result = []\n",
    "    for poi in liste_poi:\n",
    "        if len(result)==0: \n",
    "            result.append(poi)\n",
    "        elif result[-1] != poi: \n",
    "            if not poi in result:\n",
    "                result.append(poi)\n",
    "            else:\n",
    "                if len(result)>1:\n",
    "                    results.append(result)\n",
    "                result = [poi]\n",
    "    if len(result)>1:    \n",
    "        results.append(result) \n",
    "    return results\n",
    "\n",
    "spark.udf.register(\"get_trajectoires\", get_trajectoires, ArrayType(ArrayType(IntegerType())))"
   ]
  },
  {
   "cell_type": "markdown",
   "id": "b042ceec-ef20-40ee-af00-ce9a651eff84",
   "metadata": {},
   "source": [
    "#### All trajectory sizes"
   ]
  },
  {
   "cell_type": "markdown",
   "id": "d5e85fb6-78e1-4ea3-b35f-940cda2da13f",
   "metadata": {},
   "source": [
    "We limit ourselves to trajectories with a SIZE >=3"
   ]
  },
  {
   "cell_type": "code",
   "execution_count": 57,
   "id": "228fd81f-2ca3-4f9a-b484-10efe382b35c",
   "metadata": {},
   "outputs": [],
   "source": [
    "def toutes_tailles_trajectoires(table_visites):\n",
    "    table_visites.createOrReplaceTempView(\"trajectoires_toutes_taille\")\n",
    "    query = \"\"\"\n",
    "            select user, jour, explode(get_trajectoires(collect_list( (to_unix_timestamp(datetime), num)))) as trajectoire\n",
    "            from trajectoires_toutes_taille\n",
    "            group by user, jour;\n",
    "            \n",
    "            \"\"\"\n",
    "    return spark.sql(query)"
   ]
  },
  {
   "cell_type": "markdown",
   "id": "dcb63e23-080d-41df-8a99-c6ba2b7c4a2e",
   "metadata": {},
   "source": [
    "#### Trajectories with size >=3"
   ]
  },
  {
   "cell_type": "code",
   "execution_count": 59,
   "id": "3e0d3777-04b4-4535-acab-d7d9573680ab",
   "metadata": {},
   "outputs": [],
   "source": [
    "def trajectoires_sup3(table_traj_toutes_tailles):\n",
    "    table_traj_toutes_tailles.createOrReplaceTempView(\"trajectoires\")\n",
    "    query = \"\"\"\n",
    "            select *\n",
    "            from trajectoires\n",
    "            where where size(trajectoire) >=3\n",
    "            order by user,jour;\n",
    "            \n",
    "            \"\"\"\n",
    "    return spark.sql(query)"
   ]
  },
  {
   "cell_type": "markdown",
   "id": "586839b0-b33c-46fd-ae33-b138d74112d2",
   "metadata": {},
   "source": [
    "### train/test construction"
   ]
  },
  {
   "cell_type": "markdown",
   "id": "5b230155-c674-4592-a9fe-3e00f3bfda90",
   "metadata": {},
   "source": [
    "#### Create test trajectories"
   ]
  },
  {
   "cell_type": "markdown",
   "id": "fe752990-171e-46dc-a581-36cd2ba0af27",
   "metadata": {},
   "source": [
    "Avoid cold start: \n",
    "\n",
    "Eligibility: a test set is created such that for each trajectory, there is at least another one that has the same 2 last POIs"
   ]
  },
  {
   "cell_type": "code",
   "execution_count": 62,
   "id": "49a80706-b086-4425-94fe-3fd31f8a821a",
   "metadata": {},
   "outputs": [],
   "source": [
    "def trajectoire_eligible(table_traj_sup_3):\n",
    "    table_traj_sup_3.createOrReplaceTempView(\"table_traj_sup_3\")\n",
    "    query = \"\"\"\n",
    "            select DISTINCT t1.trajectoire, t1.user, t1.jour, element_at(t1.trajectoire, -2) as avant_dernier_poi, element_at(t1.trajectoire, -1) as dernier_poi\n",
    "            from table_traj_sup_3 t1, table_traj_sup_3 t2\n",
    "            where element_at(t1.trajectoire, -2) = element_at(t2.trajectoire, -2) \n",
    "            and element_at(t1.trajectoire, -1) = element_at(t2.trajectoire, -1) \n",
    "            and t1.trajectoire <> t2.trajectoire\n",
    "            \"\"\"\n",
    "    return spark.sql(query)"
   ]
  },
  {
   "cell_type": "markdown",
   "id": "836cc653-5ce5-4923-bc22-c6a5ead08d11",
   "metadata": {},
   "source": [
    "sort by date the trajectories that have the same suffix and number them"
   ]
  },
  {
   "cell_type": "code",
   "execution_count": 65,
   "id": "07416f97-042f-489e-8707-f048d74b714c",
   "metadata": {},
   "outputs": [],
   "source": [
    "def trajectoire_eligible_numerotation(trajectoires_eligibles):\n",
    "    trajectoires_eligibles.createOrReplaceTempView(\"trajectoires_eligibles\")\n",
    "    query = \"\"\"\n",
    "            select user, jour, trajectoire, avant_dernier_poi, dernier_poi,\n",
    "            row_number() over (partition by avant_dernier_poi, dernier_poi order by jour desc) as num\n",
    "            from trajectoires_eligibles        \n",
    "            \"\"\"\n",
    "    return spark.sql(query)"
   ]
  },
  {
   "cell_type": "markdown",
   "id": "5f27ca3e-79f6-4a86-9b2b-b2edbe512f1a",
   "metadata": {},
   "source": [
    "only one trajectory per suffix: the most recent"
   ]
  },
  {
   "cell_type": "code",
   "execution_count": 67,
   "id": "c3ae8ab8-ef8f-4cb1-9d04-88621f93f559",
   "metadata": {},
   "outputs": [],
   "source": [
    "def trajectoire_eligible_par_suffixe(trajectoires_eligibles_num):\n",
    "    trajectoires_eligibles_num.createOrReplaceTempView(\"trajectoires_eligibles_num\")\n",
    "    query = \"\"\"\n",
    "            select  t.user, t.jour, t.trajectoire,avant_dernier_poi, dernier_poi\n",
    "            from trajectoires_eligibles_num t\n",
    "            where num=1\n",
    "            \"\"\"\n",
    "    return spark.sql(query)"
   ]
  },
  {
   "cell_type": "markdown",
   "id": "7fb61b78-f067-49d8-ba76-d0c6fb2ee552",
   "metadata": {},
   "source": [
    "#### Create train trajectories"
   ]
  },
  {
   "cell_type": "code",
   "execution_count": 69,
   "id": "39f183a6-eeb9-45ae-809c-358ef09be1ca",
   "metadata": {},
   "outputs": [],
   "source": [
    "def trajectoire_de_train(table_trajectoires_superieur_3, table_trajectoires_test):\n",
    "    table_trajectoires_superieur_3.createOrReplaceTempView(\"trajectoires_sup3\")\n",
    "    table_trajectoires_test.createOrReplaceTempView(\"traj_test\")\n",
    "    \n",
    "    \n",
    "    query = \"\"\"\n",
    "            select user, jour, trajectoire\n",
    "            from trajectoires_sup3\n",
    "            minus\n",
    "            select user, jour, trajectoire\n",
    "            from \n",
    "            traj_test;\n",
    "            \n",
    "            \"\"\"\n",
    "    return spark.sql(query)"
   ]
  },
  {
   "cell_type": "markdown",
   "id": "efea2eae-ea31-4c18-97f4-ce8b077de8ce",
   "metadata": {},
   "source": [
    "#### Test and train  set : Call all functions"
   ]
  },
  {
   "cell_type": "code",
   "execution_count": 71,
   "id": "f78d3064-5755-4fdd-9a20-d2686d530376",
   "metadata": {
    "tags": []
   },
   "outputs": [],
   "source": [
    "def get_or_create_testset_and_trainset(PUBLIC_DATASET_URL, yfcc_web_dir, local_dir, yfcc_file):\n",
    "    \n",
    "    test_set_file = local_dir + \"/\" + yfcc_file + \"_testset\"\n",
    "    train_set_file = local_dir + \"/\" + yfcc_file + \"_trainset\"\n",
    "    \n",
    "    if not ( os.path.exists(test_set_file) and  os.path.exists(train_set_file) ) :\n",
    "        yfcc_web_dir_download_URL = PUBLIC_DATASET_URL + \"/download?path=\" + \"/\" + yfcc_web_dir\n",
    "        get_yfcc_dataset(yfcc_web_dir_download_URL , local_dir, yfcc_file)\n",
    "\n",
    "        yfcc = lire_yfcc(yfcc_file)\n",
    "        visite1 = visite(yfcc)\n",
    "        visiteRound3 = visite_round3(visite1)\n",
    "        frequence = lat_long_freq(visiteRound3)\n",
    "        latlongFrance = bounding_box_France(frequence)\n",
    "        table_avec_num_POI = numorer_POI(latlongFrance)\n",
    "        table_visite_avec_num_POI = visiteNum(table_avec_num_POI, visite1)\n",
    "        traj_toutes_tailles = toutes_tailles_trajectoires(table_visite_avec_num_POI)\n",
    "        trajectoires_superieur_3 = trajectoires_sup3(traj_toutes_tailles)\n",
    "        trajectoires_eligibles = trajectoire_eligible(trajectoires_superieur_3)\n",
    "        trajectoires_eligibles_num = trajectoire_eligible_numerotation(trajectoires_eligibles)\n",
    "        trajectoires_eligibles_num = trajectoire_eligible_numerotation(trajectoires_eligibles)\n",
    "        trajectoire_test = trajectoire_eligible_par_suffixe(trajectoires_eligibles_num)\n",
    "        trajectoires_train = trajectoire_de_train(trajectoires_superieur_3, trajectoire_test)\n",
    "        \n",
    "        \n",
    "        # write trajectoire_test\n",
    "        trajectoire_test.write.mode(\"overwrite\").format(\"parquet\").save(test_set_file)\n",
    "        trajectoires_train.write.mode(\"overwrite\").format(\"parquet\").save(train_set_file)   \n",
    "    else:\n",
    "        print(\"test set or train set already exist\")\n",
    "        \n",
    "    return spark.read.format(\"parquet\").load(test_set_file).persist(), spark.read.format(\"parquet\").load(train_set_file).persist()"
   ]
  },
  {
   "cell_type": "markdown",
   "id": "391a4588-ade1-41b2-ac65-4326f8bcf64c",
   "metadata": {},
   "source": [
    "#### Execute the creation of the test sets and train"
   ]
  },
  {
   "cell_type": "code",
   "execution_count": 72,
   "id": "9a6091f5-6c6a-4f5a-9c5e-274663baaba6",
   "metadata": {},
   "outputs": [
    {
     "name": "stdout",
     "output_type": "stream",
     "text": [
      "URL du dossier contenant les datasets  https://nuage.lip6.fr/s/H3bpyRGgnCq2NR4\n",
      "test set or train set already exist\n"
     ]
    },
    {
     "data": {
      "text/plain": [
       "DataFrame[user: string, jour: date, trajectoire: array<int>]"
      ]
     },
     "execution_count": 72,
     "metadata": {},
     "output_type": "execute_result"
    }
   ],
   "source": [
    "print(\"URL du dossier contenant les datasets \", P.PUBLIC_DATASET_URL)\n",
    "trajectoires_test, trajectoires_train = get_or_create_testset_and_trainset(P.PUBLIC_DATASET_URL, P.yfcc_web_dir, P.local_dir, P.yfcc_file)\n",
    "trajectoires_test.persist()\n",
    "trajectoires_train.persist()"
   ]
  },
  {
   "cell_type": "markdown",
   "id": "aa818755-9f3d-42fa-8bbd-a1e371a17704",
   "metadata": {
    "tags": []
   },
   "source": [
    "## Models creation"
   ]
  },
  {
   "cell_type": "markdown",
   "id": "5cbc7237-6626-49fc-95f7-c625ddd6f45f",
   "metadata": {
    "tags": []
   },
   "source": [
    "### EMBEDDINGS"
   ]
  },
  {
   "cell_type": "code",
   "execution_count": 74,
   "id": "cf6a0cc9-a6e2-43c2-9a2f-0152a083f8c6",
   "metadata": {},
   "outputs": [],
   "source": [
    "def get_input_trajectoires(trajectoires_train): \n",
    "    input_trajectoires_1 = trajectoires_train.selectExpr(\"trajectoire\")\n",
    "    input_trajectoires = [ [str(poi) for poi in t.trajectoire] for t in input_trajectoires_1.collect()]\n",
    "    \n",
    "    return input_trajectoires"
   ]
  },
  {
   "cell_type": "code",
   "execution_count": 75,
   "id": "d5c0b4ce-46f5-4ce5-8a64-360b868fb989",
   "metadata": {},
   "outputs": [],
   "source": [
    "def get_model_name_dim(model_name, dimension, epoch, window):\n",
    "    return model_name + \"_dimension\" + str(dimension) + \"_epoch\" +str(epoch)+ \"_window\" +str(window)\n"
   ]
  },
  {
   "cell_type": "code",
   "execution_count": 76,
   "id": "ddb2554a-b852-4842-b792-90b7c486142f",
   "metadata": {},
   "outputs": [],
   "source": [
    "def dimension_model(trajectoires_train, model_name, expe_dimensions, expe_epochs, expe_windows):\n",
    "\n",
    "    input_trajectoires = get_input_trajectoires(trajectoires_train)\n",
    "    for dimension in expe_dimensions:\n",
    "        for epoch in expe_epochs:\n",
    "            for window in expe_windows:\n",
    "    \n",
    "                model_to_save = get_model_name_dim(model_name, dimension, epoch, window)\n",
    "                #si le modele n'existe pas deja\n",
    "                if not os.path.exists(model_to_save) :\n",
    "                    model = Word2Vec(sentences=input_trajectoires, vector_size=dimension, epochs =epoch, window=window, min_count=1, workers=64)\n",
    "                    model.save(model_to_save)\n",
    "                    print(\"model_saved\" , model_to_save)\n",
    "                else:\n",
    "                    print(\"model already exists\" , model_to_save)\n",
    "            "
   ]
  },
  {
   "cell_type": "markdown",
   "id": "2c768c01-be21-413c-975e-bbef8d8a196b",
   "metadata": {},
   "source": [
    "### Execute models creation"
   ]
  },
  {
   "cell_type": "code",
   "execution_count": 77,
   "id": "63a8421e-945f-4b0c-aeb9-8fecfa611311",
   "metadata": {},
   "outputs": [
    {
     "name": "stdout",
     "output_type": "stream",
     "text": [
      "model already exists /local/jarrad/bd/model_dimension/model_dimension2_epoch5_window5\n",
      "model already exists /local/jarrad/bd/model_dimension/model_dimension2_epoch50_window5\n",
      "model already exists /local/jarrad/bd/model_dimension/model_dimension2_epoch100_window5\n",
      "model already exists /local/jarrad/bd/model_dimension/model_dimension12_epoch5_window5\n",
      "model already exists /local/jarrad/bd/model_dimension/model_dimension12_epoch50_window5\n",
      "model already exists /local/jarrad/bd/model_dimension/model_dimension12_epoch100_window5\n",
      "model already exists /local/jarrad/bd/model_dimension/model_dimension25_epoch5_window5\n",
      "model already exists /local/jarrad/bd/model_dimension/model_dimension25_epoch50_window5\n",
      "model already exists /local/jarrad/bd/model_dimension/model_dimension25_epoch100_window5\n",
      "model already exists /local/jarrad/bd/model_dimension/model_dimension30_epoch5_window5\n",
      "model already exists /local/jarrad/bd/model_dimension/model_dimension30_epoch50_window5\n",
      "model already exists /local/jarrad/bd/model_dimension/model_dimension30_epoch100_window5\n",
      "model already exists /local/jarrad/bd/model_dimension/model_dimension50_epoch5_window5\n",
      "model already exists /local/jarrad/bd/model_dimension/model_dimension50_epoch50_window5\n",
      "model already exists /local/jarrad/bd/model_dimension/model_dimension50_epoch100_window5\n"
     ]
    }
   ],
   "source": [
    "dimension_model(trajectoires_train, P.model_name, P.expe_dimensions, P.expe_epochs, P.expe_windows)"
   ]
  },
  {
   "cell_type": "markdown",
   "id": "a63c9f3c-0497-4c48-9828-fa8a387f1bef",
   "metadata": {},
   "source": [
    "# Prediction algorithms"
   ]
  },
  {
   "cell_type": "markdown",
   "id": "84b42a60-ef18-4662-ac5b-f0abb045dfda",
   "metadata": {},
   "source": [
    "## similarity between trajectories"
   ]
  },
  {
   "cell_type": "code",
   "execution_count": 79,
   "id": "68f72f3b-d0a0-4983-8261-2605b8bf5098",
   "metadata": {},
   "outputs": [],
   "source": [
    "def similarite_trajectoires_JACCARD(traj_test, trajectoire):\n",
    "    s1 = set(traj_test[:-1])\n",
    "    s2 = set(trajectoire[:-1])\n",
    "    sim = len(s1.intersection(s2)) / len(s1.union(s2))\n",
    "    return sim\n",
    "\n",
    "\n",
    "def similarite_trajectoires_MRR(traj_test, trajectoire):\n",
    "    somme = 0.0\n",
    "    for i in range(min(len(traj_test) , len(trajectoire))-1):\n",
    "        if traj_test[-2-i] == trajectoire[-2-i]:\n",
    "             somme += 1 / (i+1)    \n",
    "    return somme\n",
    "\n",
    "def load_w2v_model(model_name, dimension, epoch, window): \n",
    "    global MODEL\n",
    "    return MODEL   \n",
    "\n",
    "\n",
    "def similarite_trajectoires_JACCARD_cosinus(traj_test, trajectoire, model_name, dimension, epoch, window):\n",
    "    model = load_w2v_model( model_name, dimension, epoch, window)\n",
    "    somme = 0.0\n",
    "    for p1 in traj_test[:-1]:\n",
    "        try:\n",
    "            v1 = model.wv[str(p1)]\n",
    "            max_sim = -2\n",
    "            for p2 in trajectoire[:-1]:\n",
    "                v2 = model.wv[str(p2)]\n",
    "                sim = dot(v1, v2)/(norm(v1)*norm(v2))\n",
    "                max_sim = max(max_sim, sim)\n",
    "\n",
    "        except:\n",
    "            continue\n",
    "        somme += max_sim\n",
    "            \n",
    "    return float(somme)\n",
    "\n",
    "def similarite_trajectoires_MRR_cosinus(traj_test, trajectoire, model_name, dimension, epoch, window):\n",
    "    model = load_w2v_model( model_name, dimension, epoch, window)\n",
    "    somme = 0.0\n",
    "    for i in range(min(len(traj_test) , len(trajectoire))-1):\n",
    "        try:\n",
    "            v1 = model.wv[str(traj_test[-2-i])]\n",
    "            max_sim = -2\n",
    "            for p2 in trajectoire[:-1]:\n",
    "                v2 = model.wv[str(p2)]\n",
    "                sim = dot(v1, v2)/(norm(v1)*norm(v2))\n",
    "                #if sim > 0.6:\n",
    "                max_sim = max(max_sim, sim)\n",
    "        except:\n",
    "            continue\n",
    "        somme += max_sim / (i+1)   \n",
    "    return float(somme)\n",
    "    \n",
    "#spark.udf.register(\"similarite_trajectoires\", similarite_trajectoires, DoubleType())\n"
   ]
  },
  {
   "cell_type": "code",
   "execution_count": 81,
   "id": "b4b72e2f-a84e-4cfb-91c0-386b6c831b72",
   "metadata": {},
   "outputs": [
    {
     "data": {
      "text/plain": [
       "<function __main__.sim_traj(traj_test, trajectoire_train, fct_similarite, model_name, dimension, epoch, window)>"
      ]
     },
     "execution_count": 81,
     "metadata": {},
     "output_type": "execute_result"
    }
   ],
   "source": [
    "def sim_traj(traj_test, trajectoire_train, fct_similarite, model_name, dimension, epoch, window):\n",
    "    if fct_similarite==\"similarite_trajectoires_JACCARD\": \n",
    "        sim = similarite_trajectoires_JACCARD(traj_test, trajectoire_train)\n",
    "\n",
    "    elif fct_similarite==\"similarite_trajectoires_MRR\": \n",
    "        sim = similarite_trajectoires_MRR(traj_test, trajectoire_train)\n",
    "\n",
    "    elif fct_similarite==\"similarite_trajectoires_JACCARD_cosinus\": \n",
    "        sim = similarite_trajectoires_JACCARD_cosinus(traj_test, trajectoire_train, model_name, dimension, epoch, window)\n",
    "        \n",
    "    elif fct_similarite==\"similarite_trajectoires_MRR_cosinus\": \n",
    "        sim = similarite_trajectoires_MRR_cosinus(traj_test, trajectoire_train, model_name, dimension, epoch, window)\n",
    "    else:\n",
    "        print(\"erreur fonction inconnue\", fct_similarite)\n",
    "    return sim\n",
    "         \n",
    "spark.udf.register(\"sim_traj\", sim_traj, DoubleType())"
   ]
  },
  {
   "cell_type": "markdown",
   "id": "81f2806c-84a6-4052-946f-556ff637f7a9",
   "metadata": {
    "tags": []
   },
   "source": [
    "## pairs of trajectories "
   ]
  },
  {
   "cell_type": "markdown",
   "id": "e15abb69-8102-453b-a7f4-12154642a69b",
   "metadata": {
    "tags": []
   },
   "source": [
    "test/train that have the LAST POI in common"
   ]
  },
  {
   "cell_type": "code",
   "execution_count": 84,
   "id": "14801922-1dc7-4499-8c42-0f01e86be19f",
   "metadata": {},
   "outputs": [],
   "source": [
    "def paire_trajectoires(table_traj_train, table_traj_test):\n",
    "    table_traj_train.createOrReplaceTempView(\"traj_de_train\")\n",
    "    table_traj_test.createOrReplaceTempView(\"traj_de_test\")\n",
    "  \n",
    "    \n",
    "    query = f\"\"\"\n",
    "           SELECT test.trajectoire as traj_test, \n",
    "                  train.trajectoire as traj_train\n",
    "            FROM traj_de_test test , traj_de_train train\n",
    "            WHERE element_at(test.trajectoire, -2) = element_at(train.trajectoire, -2) \n",
    "            ;\n",
    "            \"\"\"\n",
    "    return spark.sql(query)"
   ]
  },
  {
   "cell_type": "markdown",
   "id": "69a0c156-0e37-463f-b899-21a0f9716b0f",
   "metadata": {},
   "source": [
    "## Trajctories ranking"
   ]
  },
  {
   "cell_type": "markdown",
   "id": "d9e7377f-5994-4d11-a7ca-d4eeff9524e4",
   "metadata": {},
   "source": [
    "For each test trajectory, ranking of training trajectories by decreasing similarity"
   ]
  },
  {
   "cell_type": "code",
   "execution_count": 94,
   "id": "68e1bcf2-0cce-49a5-b51e-017b8d7536e4",
   "metadata": {},
   "outputs": [],
   "source": [
    "def classement_trajectoires(table_paires_trajectoires, fonction_similarite, dimension, model_name, epoch, window):\n",
    "    table_paires_trajectoires.createOrReplaceTempView(\"table_paires_trajectoire\")\n",
    "    \n",
    "    \n",
    "    query = f\"\"\"\n",
    "            select *, sim_traj(traj_test, traj_train, {fonction_similarite}, '{model_name}', {dimension} , {epoch}, {window}) as similarite,\n",
    "            rank() over( partition by traj_test order by sim_traj(traj_test, traj_train, {fonction_similarite}, '{model_name}', {dimension}, {epoch}, {window} ) desc) as classement\n",
    "            from table_paires_trajectoire\n",
    "            order by traj_test, similarite desc;\n",
    "            \n",
    "            \"\"\"\n",
    "    return spark.sql(query)"
   ]
  },
  {
   "cell_type": "markdown",
   "id": "831a7899-4b34-429e-898d-17c9ee3223f9",
   "metadata": {},
   "source": [
    "Group the TOP k most similar trajectories (for each test path) by last train POI"
   ]
  },
  {
   "cell_type": "code",
   "execution_count": 97,
   "id": "54d38e4b-bb67-44c8-8d94-00c0ae690299",
   "metadata": {},
   "outputs": [],
   "source": [
    "def classement_top_k_traj_les_plus_sim(table_classement_des_trajectoires_par_sim, k):\n",
    "    table_classement_des_trajectoires_par_sim.createOrReplaceTempView(\"similarite_par_trajectoire_par_dernier_POI_du_train\") \n",
    "    query = f\"\"\"\n",
    "            select traj_test, element_at(traj_train, -1) as dernier_poi_train, sum(similarite) as similarite\n",
    "            from similarite_par_trajectoire_par_dernier_POI_du_train\n",
    "            where classement <= {k}\n",
    "            group by traj_test, element_at(traj_train, -1)\n",
    "            order by traj_test, similarite desc            \n",
    "            \"\"\" \n",
    "    return spark.sql(query)"
   ]
  },
  {
   "cell_type": "markdown",
   "id": "d452d8d7-a7fe-476d-8b5b-322fd4cea2d4",
   "metadata": {},
   "source": [
    "## Best score"
   ]
  },
  {
   "cell_type": "markdown",
   "id": "3d2bad58-5c7e-4195-9e8a-2eeba81039e7",
   "metadata": {},
   "source": [
    "keep only the prediction with the best score"
   ]
  },
  {
   "cell_type": "code",
   "execution_count": 99,
   "id": "d3f01cd5-036a-4faf-b5d4-f2f3992cce81",
   "metadata": {},
   "outputs": [],
   "source": [
    "def pred_avec_meilleur_score(table_top_k_classement_traj_similaires):\n",
    "    table_top_k_classement_traj_similaires.createOrReplaceTempView(\"trajectoire_avec_prediction\")\n",
    "    \n",
    "    \n",
    "    query = \"\"\"\n",
    "\n",
    "            select traj_test, element_at(array_sort(collect_list( (similarite, dernier_poi_train))), -1) as prediction\n",
    "            from trajectoire_avec_prediction\n",
    "            group by traj_test;\n",
    "    \n",
    "            \n",
    "            \n",
    "            \"\"\"\n",
    "    return spark.sql(query)"
   ]
  },
  {
   "cell_type": "markdown",
   "id": "41536202-4356-4bd2-8a14-489fd40262fe",
   "metadata": {},
   "source": [
    "## prediction"
   ]
  },
  {
   "cell_type": "code",
   "execution_count": 101,
   "id": "97923b26-3ff8-427e-bc2b-da50b20565f9",
   "metadata": {},
   "outputs": [],
   "source": [
    "def prediction(table_prediction_meilleur_score):\n",
    "    table_prediction_meilleur_score.createOrReplaceTempView(\"trajectoire_avec_meilleure_prediction\")\n",
    "    \n",
    "    \n",
    "    query = \"\"\"\n",
    "\n",
    "            select traj_test, element_at(traj_test, -1) as testPOI, prediction.dernier_poi_train as prediction\n",
    "            from trajectoire_avec_meilleure_prediction;\n",
    "    \n",
    "            \n",
    "            \n",
    "            \"\"\"\n",
    "    return spark.sql(query)"
   ]
  },
  {
   "cell_type": "markdown",
   "id": "f312b753-5cbd-42f2-9844-33c185523dcc",
   "metadata": {},
   "source": [
    "## prediction success rate"
   ]
  },
  {
   "cell_type": "code",
   "execution_count": 103,
   "id": "c5fe4a8a-076c-46cc-baf6-0108ef2b33ba",
   "metadata": {},
   "outputs": [],
   "source": [
    "def taux_succes_prediction(table_prediction):\n",
    "    table_prediction.createOrReplaceTempView(\"prediction_point\")\n",
    "   \n",
    "   \n",
    "   \n",
    "    query1 = \"\"\"\n",
    "           \n",
    "            select count(*)  as nb from prediction_point where testPOI = prediction;\n",
    "\n",
    "            \"\"\"\n",
    "   \n",
    "    query2 = \"\"\"select count(*)  as nb from prediction_point \"\"\"\n",
    "   \n",
    "    succes = spark.sql(query1)\n",
    "    succes_pandas = succes.toPandas()\n",
    "    success = succes_pandas[\"nb\"][0]\n",
    "   \n",
    "    total = spark.sql(query2)\n",
    "    total_pandas = total.toPandas()\n",
    "    totall = total_pandas[\"nb\"][0]\n",
    "   \n",
    "    return success/totall"
   ]
  },
  {
   "cell_type": "markdown",
   "id": "855c8776-03fa-4381-a8e9-c8eab6cc655e",
   "metadata": {},
   "source": [
    "# EXPERIENCES"
   ]
  },
  {
   "cell_type": "markdown",
   "id": "5e173498-ac58-43c5-a6e2-ab3a837cc138",
   "metadata": {},
   "source": [
    "## Configurable experiences"
   ]
  },
  {
   "cell_type": "markdown",
   "id": "18b62f28-ac89-4a50-9669-505bb2bc0ff5",
   "metadata": {},
   "source": [
    "## Quality of prediction"
   ]
  },
  {
   "cell_type": "code",
   "execution_count": 105,
   "id": "af400783-96a7-464c-a9de-d5f6ba6e4416",
   "metadata": {},
   "outputs": [],
   "source": [
    "def mesure_qualite(paires_avec_similarite_decroissante, k):\n",
    "    top_k_classement_traj_similaires = classement_top_k_traj_les_plus_sim(paires_avec_similarite_decroissante, k)\n",
    "    prediction_avec_meilleur_score = pred_avec_meilleur_score(top_k_classement_traj_similaires)\n",
    "    table_prediction = prediction(prediction_avec_meilleur_score)\n",
    "    taux = taux_succes_prediction(table_prediction)\n",
    "    return taux"
   ]
  },
  {
   "cell_type": "code",
   "execution_count": 107,
   "id": "33e5aecd-ddab-40e0-b6b8-a3c7665da433",
   "metadata": {},
   "outputs": [],
   "source": [
    "def toutes_experiences(expe_topk, expe_dimensions,expe_epochs, model_name, experiment_dir, expe_windows):\n",
    "    global MODEL\n",
    "    \n",
    "    # name of the file in which the results of experiments based on embeddings are stored \n",
    "    def get_expe_vector_filemane(i):\n",
    "        return  experiment_dir + \"/\" + f\"expe_{i}_vectors.csv\"\n",
    "    \n",
    "    \n",
    "    # name of the file in which the results of experiments non based embeddings are stored\n",
    "    def get_expe_no_vector_filemane(i):\n",
    "        return  experiment_dir + \"/\" + f\"expe_{i}_no_vectors.csv\"\n",
    "    \n",
    "    file_num=1\n",
    "    while os.path.exists(get_expe_vector_filemane(file_num)) or os.path.exists(get_expe_no_vector_filemane(file_num)):\n",
    "        file_num = file_num + 1\n",
    "    with open(get_expe_vector_filemane(file_num), 'a') as f:\n",
    "        print(\"resultats expe avec vecteurs W2V dans :\",experiment_dir + get_expe_vector_filemane(file_num))\n",
    "        f.write('k,dimension,epoch,window,fonction de similarite,qualite\\n')\n",
    "        \n",
    "    with open(get_expe_no_vector_filemane(file_num), 'a') as f_sans_model:\n",
    "        print(\"resultats expe sans vecteurs dans :\",experiment_dir + get_expe_no_vector_filemane(file_num))\n",
    "        f_sans_model.write('k,dimension,epoch,window,fonction de similarite,qualite\\n')\n",
    "        \n",
    "    \n",
    "\n",
    "    trajectoires_test, trajectoires_train = get_or_create_testset_and_trainset(P.PUBLIC_DATASET_URL, P.yfcc_web_dir, P.local_dir, P.yfcc_file)\n",
    "    taille_trj_test = trajectoires_test.count()\n",
    "    print(taille_trj_test)\n",
    "    paires = paire_trajectoires(trajectoires_train, trajectoires_test)\n",
    "    paires.persist()\n",
    "\n",
    "        \n",
    "    # With embeddings\n",
    "    with open(get_expe_vector_filemane(file_num), 'a') as f:\n",
    "\n",
    "        for dimension in expe_dimensions:\n",
    "            for epoch in expe_epochs:\n",
    "                for window in expe_windows:\n",
    "                    model_to_load = get_model_name_dim(model_name, dimension, epoch, window)\n",
    "                    MODEL = Word2Vec.load(model_to_load)\n",
    "                    spark.udf.register(\"sim_traj\", sim_traj, DoubleType())\n",
    "\n",
    "                    for fonction_similarite in ('\\\"similarite_trajectoires_MRR_cosinus\\\"', '\\\"similarite_trajectoires_JACCARD_cosinus\\\"'):\n",
    "                        paires_avec_sim = classement_trajectoires(paires, fonction_similarite, dimension, model_name, epoch, window)\n",
    "                        paires_avec_sim.persist()\n",
    "                        for k in expe_topk:\n",
    "                            qualite = mesure_qualite(paires_avec_sim, k)\n",
    "                            tuple_experience = (k, dimension, epoch, window, fonction_similarite, qualite)\n",
    "                            sep = ','\n",
    "                            f.write(str(k) + sep + str(dimension) + sep + str(epoch)+ sep + str(window) + sep + str(fonction_similarite) + sep + str(qualite) + '\\n')\n",
    "                            f.flush()\n",
    "\n",
    "                        \n",
    "    \n",
    "    \n",
    "    # Without embeddings\n",
    "    with open(get_expe_no_vector_filemane(file_num), 'a') as f_sans_model:\n",
    "\n",
    "        for fonction_similarite in ('\\\"similarite_trajectoires_JACCARD\\\"', '\\\"similarite_trajectoires_MRR\\\"'):\n",
    "            paires_avec_sim = classement_trajectoires(paires, fonction_similarite, dimension, model_name, epoch, window)\n",
    "            paires_avec_sim.persist()\n",
    "\n",
    "\n",
    "            for k in expe_topk:\n",
    "                qualite = mesure_qualite(paires_avec_sim, k)\n",
    "                tuple_experience = (k, 0,0,0, fonction_similarite, qualite)\n",
    "                sep = ','\n",
    "                f_sans_model.write(str(k) + sep + \"0\" + sep + \"0\"+ sep + \"0\"+ sep +str(fonction_similarite) + sep + str(qualite) + '\\n')\n",
    "                f_sans_model.flush()\n"
   ]
  },
  {
   "cell_type": "markdown",
   "id": "247ad6d6-2c50-42b1-afb0-91dcd093bc72",
   "metadata": {},
   "source": [
    "## Lancer les expériences"
   ]
  },
  {
   "cell_type": "code",
   "execution_count": 108,
   "id": "8325261d-923a-44a6-9e2d-9e36e34f0dc5",
   "metadata": {
    "tags": []
   },
   "outputs": [
    {
     "name": "stdout",
     "output_type": "stream",
     "text": [
      "2023-05-01 21:11:26.933918\n",
      "resultats expe avec vecteurs W2V dans : /home/jarrad/Bureau/notebook_sara/experiment//home/jarrad/Bureau/notebook_sara/experiment//expe_184_vectors.csv\n",
      "resultats expe sans vecteurs dans : /home/jarrad/Bureau/notebook_sara/experiment//home/jarrad/Bureau/notebook_sara/experiment//expe_184_no_vectors.csv\n",
      "test set or train set already exist\n",
      "4959\n",
      "2023-05-01 21:32:18.596079 duree: 0:20:51.662161\n"
     ]
    }
   ],
   "source": [
    "from datetime import datetime\n",
    "t1 = datetime.now()\n",
    "print(t1)\n",
    "\n",
    "toutes_experiences(expe_topk = P.expe_topk, expe_dimensions= P.expe_dimensions, expe_epochs=P.expe_epochs,model_name = P.model_name, experiment_dir=P.experiment_dir, expe_windows=P.expe_windows)\n",
    "\n",
    "t2 = datetime.now()\n",
    "print(t2, \"duree:\", t2-t1)"
   ]
  }
 ],
 "metadata": {
  "kernelspec": {
   "display_name": "Python 3",
   "language": "python",
   "name": "python3"
  },
  "language_info": {
   "codemirror_mode": {
    "name": "ipython",
    "version": 3
   },
   "file_extension": ".py",
   "mimetype": "text/x-python",
   "name": "python",
   "nbconvert_exporter": "python",
   "pygments_lexer": "ipython3",
   "version": "3.9.2"
  }
 },
 "nbformat": 4,
 "nbformat_minor": 5
}
